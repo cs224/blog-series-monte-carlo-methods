{
 "cells": [
  {
   "cell_type": "code",
   "execution_count": 1,
   "metadata": {
    "hide_input": true,
    "scrolled": true,
    "tags": [
     "hide_input"
    ]
   },
   "outputs": [
    {
     "data": {
      "text/html": [
       "<style>.container { width:70% !important; }</style>"
      ],
      "text/plain": [
       "<IPython.core.display.HTML object>"
      ]
     },
     "metadata": {},
     "output_type": "display_data"
    }
   ],
   "source": [
    "from IPython.display import HTML\n",
    "from IPython.display import display\n",
    "\n",
    "display(HTML(\"<style>.container { width:70% !important; }</style>\"))"
   ]
  },
  {
   "cell_type": "code",
   "execution_count": 2,
   "metadata": {
    "hide_input": true,
    "tags": [
     "hide_input"
    ]
   },
   "outputs": [],
   "source": [
    "%matplotlib inline\n",
    "import numpy as np, scipy, scipy.stats as stats, pandas as pd, matplotlib.pyplot as plt, seaborn as sns\n",
    "import statsmodels, statsmodels.api as sm\n",
    "import sympy, sympy.stats\n",
    "import pymc3 as pm\n",
    "import daft\n",
    "\n",
    "pd.set_option('display.max_columns', 500)\n",
    "pd.set_option('display.width', 1000)\n",
    "# pd.set_option('display.float_format', lambda x: '%.2f' % x)\n",
    "np.set_printoptions(edgeitems=10)\n",
    "np.set_printoptions(linewidth=1000)\n",
    "np.set_printoptions(suppress=True)\n",
    "np.core.arrayprint._line_width = 180\n",
    "\n",
    "SEED = 42\n",
    "np.random.seed(SEED)\n",
    "\n",
    "sns.set()"
   ]
  },
  {
   "cell_type": "markdown",
   "metadata": {},
   "source": [
    "This blog post is part of the [Series: Monte Carlo Methods](https://weisser-zwerg.dev/posts/series-monte-carlo-methods/).\n",
    "\n",
    "You can find this blog post on [weisser-zwerg.dev](https://weisser-zwerg.dev/posts/monte-carlo-fundamental-concepts/), [github](https://github.com/cs224/blog-series-monte-carlo-methods) and [nbviewer](https://nbviewer.jupyter.org/github/cs224/blog-series-monte-carlo-methods/blob/main/0010-fundamental-concepts.ipynb?flush_cache=true)."
   ]
  },
  {
   "cell_type": "markdown",
   "metadata": {},
   "source": [
    "# Monte Carlo Fundamental Concepts"
   ]
  },
  {
   "cell_type": "markdown",
   "metadata": {
    "toc": true
   },
   "source": [
    "<h1>Table of Contents<span class=\"tocSkip\"></span></h1>\n",
    "<div class=\"toc\"><ul class=\"toc-item\"><li><span><a href=\"#Boundary-between-statistics-and-machine-learning-/-AI\" data-toc-modified-id=\"Boundary-between-statistics-and-machine-learning-/-AI-1\"><span class=\"toc-item-num\">1&nbsp;&nbsp;</span>Boundary between statistics and machine learning / AI</a></span></li><li><span><a href=\"#Statistical-Models\" data-toc-modified-id=\"Statistical-Models-2\"><span class=\"toc-item-num\">2&nbsp;&nbsp;</span>Statistical Models</a></span></li><li><span><a href=\"#How-to-construct-models:-keep-the-Bayes'-theorem-and-the-law-of-total-probability-(extending-the-conversation)-always-in-mind\" data-toc-modified-id=\"How-to-construct-models:-keep-the-Bayes'-theorem-and-the-law-of-total-probability-(extending-the-conversation)-always-in-mind-3\"><span class=\"toc-item-num\">3&nbsp;&nbsp;</span>How to construct models: keep the Bayes' theorem and the law of total probability (extending the conversation) always in mind</a></span><ul class=\"toc-item\"><li><span><a href=\"#Bayes'-theorem\" data-toc-modified-id=\"Bayes'-theorem-3.1\"><span class=\"toc-item-num\">3.1&nbsp;&nbsp;</span>Bayes' theorem</a></span></li><li><span><a href=\"#Law-of-total-probability-(extending-the-conversation)\" data-toc-modified-id=\"Law-of-total-probability-(extending-the-conversation)-3.2\"><span class=\"toc-item-num\">3.2&nbsp;&nbsp;</span>Law of total probability (extending the conversation)</a></span></li></ul></li><li><span><a href=\"#What-is-the-&quot;right&quot;-representation-of-(multi-dimensional)-probability-distributions?\" data-toc-modified-id=\"What-is-the-&quot;right&quot;-representation-of-(multi-dimensional)-probability-distributions?-4\"><span class=\"toc-item-num\">4&nbsp;&nbsp;</span>What is the \"right\" representation of (multi-dimensional) probability distributions?</a></span></li><li><span><a href=\"#Operations-on-probability-distributions:-marginalization-and-conditional-probability\" data-toc-modified-id=\"Operations-on-probability-distributions:-marginalization-and-conditional-probability-5\"><span class=\"toc-item-num\">5&nbsp;&nbsp;</span>Operations on probability distributions: marginalization and conditional probability</a></span></li><li><span><a href=\"#Calculations-with-random-variables:-convolutions-and-other-nasty-stuff\" data-toc-modified-id=\"Calculations-with-random-variables:-convolutions-and-other-nasty-stuff-6\"><span class=\"toc-item-num\">6&nbsp;&nbsp;</span>Calculations with random variables: convolutions and other nasty stuff</a></span></li><li><span><a href=\"#Density-Estimation\" data-toc-modified-id=\"Density-Estimation-7\"><span class=\"toc-item-num\">7&nbsp;&nbsp;</span>Density Estimation</a></span></li><li><span><a href=\"#The-algorithm-has-to-always-perform-the-same-heavy-lifting:-there-is-no-ancestral-sampling\" data-toc-modified-id=\"The-algorithm-has-to-always-perform-the-same-heavy-lifting:-there-is-no-ancestral-sampling-8\"><span class=\"toc-item-num\">8&nbsp;&nbsp;</span>The algorithm has to always perform the same heavy lifting: there is no ancestral sampling</a></span></li><li><span><a href=\"#Appendix\" data-toc-modified-id=\"Appendix-9\"><span class=\"toc-item-num\">9&nbsp;&nbsp;</span>Appendix</a></span><ul class=\"toc-item\"><li><span><a href=\"#Examples-of-mixed-discrete-continuous-probability-functions\" data-toc-modified-id=\"Examples-of-mixed-discrete-continuous-probability-functions-9.1\"><span class=\"toc-item-num\">9.1&nbsp;&nbsp;</span>Examples of mixed discrete continuous probability functions</a></span><ul class=\"toc-item\"><li><span><a href=\"#Two-independent-dice-rolls\" data-toc-modified-id=\"Two-independent-dice-rolls-9.1.1\"><span class=\"toc-item-num\">9.1.1&nbsp;&nbsp;</span>Two independent dice rolls</a></span></li><li><span><a href=\"#Two-component-mixture-model\" data-toc-modified-id=\"Two-component-mixture-model-9.1.2\"><span class=\"toc-item-num\">9.1.2&nbsp;&nbsp;</span>Two component mixture model</a></span></li></ul></li></ul></li></ul></div>"
   ]
  },
  {
   "cell_type": "markdown",
   "metadata": {},
   "source": [
    "## Boundary between statistics and machine learning / AI"
   ]
  },
  {
   "cell_type": "markdown",
   "metadata": {},
   "source": [
    "Only very recently I found the work of 2010 [Turing Award](https://en.wikipedia.org/wiki/Turing_Award) winner [Leslie Valiant](https://en.wikipedia.org/wiki/Leslie_Valiant). In his book [Probably Approximately Correct](https://www.amazon.com/Probably-Approximately-Correct-Algorithms-Prospering/dp/0465060722/) he defines the two concepts **theoryful** and **theoryless**. This would be the place where I would draw the line between statistics and machine learning.\n",
    "\n",
    "Theoryful: a human has to provide a model and there may be some data that helps to tune the model. A good example would be newtonian motion of the planets around the sun where Newton's laws provide the model and the data helps to pinpoint the [gravitational constant](https://en.wikipedia.org/wiki/Gravitational_constant).\n",
    "\n",
    "Theoryless: you take a very generic algorithm and a lot of data and the algorithm figures out the rest. A good example would be a [multilayer perceptron](https://en.wikipedia.org/wiki/Multilayer_perceptron) and pictures of objects, where the algorithm learns via data to identify the objects. The same multilayer perceptron architecture could be used to pilot a self driving car."
   ]
  },
  {
   "cell_type": "markdown",
   "metadata": {},
   "source": [
    "## Statistical Models"
   ]
  },
  {
   "cell_type": "markdown",
   "metadata": {},
   "source": [
    "In (bayesian) statistics a model is basically a **total** [probability mass function](https://en.wikipedia.org/wiki/Probability_mass_function) (PMF; in the discrete case) or a [probiability density function](https://en.wikipedia.org/wiki/Probability_density_function) (PDF; in the continuous case). It comes often in the form of a [probabilistic graphical model](https://en.wikipedia.org/wiki/Graphical_model) (PGM; also see [Bayesian hierarchical model](https://en.wikipedia.org/wiki/Bayesian_hierarchical_modeling)). As an example you see below the graphical representation of multiple coin tosses using the same coin:"
   ]
  },
  {
   "cell_type": "code",
   "execution_count": 3,
   "metadata": {
    "tags": [
     "hide_input"
    ]
   },
   "outputs": [
    {
     "data": {
      "image/png": "[encoded data removed]",
      "text/plain": [
       "<Figure size 141.732x230.315 with 1 Axes>"
      ]
     },
     "metadata": {},
     "output_type": "display_data"
    }
   ],
   "source": [
    "pgm = daft.PGM(grid_unit=3.0, node_unit=1.5)\n",
    "\n",
    "pgm.add_node(\"theta\", r\"$\\theta$\", 0, 2)\n",
    "pgm.add_node(\"d\", r\"$d_i$\", 0, 1, observed=True)\n",
    "pgm.add_plate([-0.5, 0.5, 1.0, 1.0], label=r\"$i = 1, \\cdots, N$\")#, shift=-0.1\n",
    "\n",
    "pgm.add_edge(\"theta\", \"d\")\n",
    "\n",
    "pgm.render(dpi=100);"
   ]
  },
  {
   "cell_type": "markdown",
   "metadata": {},
   "source": [
    "In standard mathematical notation this would be:\n",
    "\n",
    "$\\displaystyle\n",
    "\\begin{array}{rcl}\n",
    "p(\\theta) &=& \\mathrm{Beta}(\\alpha=1,\\beta=1) \\\\\n",
    "p(X_i=d_i\\,|\\,\\theta) &=& \\mathrm{Bernoulli}(X_i=d_i;p=\\theta) \\\\\n",
    "\\displaystyle p(X_1=d_1, X_2 = d_2, ..., X_n = d_n, \\theta)&=& \\displaystyle p(\\theta) \\cdot\\prod_{i=1}^N p(X_i=d_i\\,|\\,\\theta)\n",
    "\\end{array}\n",
    "$\n",
    "\n",
    "Where on the left hand side you have the total probability and on the right hand side you have the prior probability $p(\\theta)$ (here given as a [Beta distribution](https://en.wikipedia.org/wiki/Beta_distribution)) multiplied by the [conditional probabilities](https://en.wikipedia.org/wiki/Conditional_probability) $p(X_i=d_i\\,|\\,\\theta)$ (here given as a [Bernoulli distribution](https://en.wikipedia.org/wiki/Bernoulli_distribution)). The important point to remember is **YOU NEED THE TOTAL PROBABILITY FUNCTION**. How you get it does not matter. The tutal probability function is a scalar function, e.g. once you provide all arguments you get a scalar.\n",
    "\n",
    "For pure continuous probability density functions and pure discrete probability mass functions this is straight forward. In the pure continuous case you in general have a function like a product of Gauss/Normal:\n",
    "$f(x_1,x_2;\\mu,\\sigma)=\\frac{1}{\\sqrt{2\\pi}\\sigma}e^{-\\frac{1}{2}\\frac{(x_1-\\mu)^2}{\\sigma^2} }\\frac{1}{\\sqrt{2\\pi}\\sigma}e^{-\\frac{1}{2}\\frac{(x_2-\\mu)^2}{\\sigma^2} }$. In the pure discrete case you get a multi dimensional array like for two dice throws"
   ]
  },
  {
   "cell_type": "code",
   "execution_count": 4,
   "metadata": {
    "tags": [
     "hide_input"
    ]
   },
   "outputs": [
    {
     "data": {
      "text/latex": [
       "$\\displaystyle \\left[\\begin{matrix}\\frac{1}{36} & \\frac{1}{36} & \\frac{1}{36} & \\frac{1}{36} & \\frac{1}{36} & \\frac{1}{36}\\\\\\frac{1}{36} & \\frac{1}{36} & \\frac{1}{36} & \\frac{1}{36} & \\frac{1}{36} & \\frac{1}{36}\\\\\\frac{1}{36} & \\frac{1}{36} & \\frac{1}{36} & \\frac{1}{36} & \\frac{1}{36} & \\frac{1}{36}\\\\\\frac{1}{36} & \\frac{1}{36} & \\frac{1}{36} & \\frac{1}{36} & \\frac{1}{36} & \\frac{1}{36}\\\\\\frac{1}{36} & \\frac{1}{36} & \\frac{1}{36} & \\frac{1}{36} & \\frac{1}{36} & \\frac{1}{36}\\\\\\frac{1}{36} & \\frac{1}{36} & \\frac{1}{36} & \\frac{1}{36} & \\frac{1}{36} & \\frac{1}{36}\\end{matrix}\\right]$"
      ],
      "text/plain": [
       "Matrix([\n",
       "[1/36, 1/36, 1/36, 1/36, 1/36, 1/36],\n",
       "[1/36, 1/36, 1/36, 1/36, 1/36, 1/36],\n",
       "[1/36, 1/36, 1/36, 1/36, 1/36, 1/36],\n",
       "[1/36, 1/36, 1/36, 1/36, 1/36, 1/36],\n",
       "[1/36, 1/36, 1/36, 1/36, 1/36, 1/36],\n",
       "[1/36, 1/36, 1/36, 1/36, 1/36, 1/36]])"
      ]
     },
     "execution_count": 4,
     "metadata": {},
     "output_type": "execute_result"
    }
   ],
   "source": [
    "A = sympy.ones(6,6)/36\n",
    "A"
   ]
  },
  {
   "cell_type": "markdown",
   "metadata": {},
   "source": [
    "For mixed cases I often got confused and therefore I elaborated on two examples in painstaking detail in the appendix, on two independent dice rolls and a two component mixture model with two observations."
   ]
  },
  {
   "cell_type": "markdown",
   "metadata": {},
   "source": [
    "## How to construct models: keep the Bayes' theorem and the law of total probability (extending the conversation) always in mind"
   ]
  },
  {
   "cell_type": "markdown",
   "metadata": {},
   "source": [
    "### Bayes' theorem "
   ]
  },
  {
   "cell_type": "markdown",
   "metadata": {},
   "source": [
    "$\n",
    "\\displaystyle\n",
    "p(x,y)=p(y|x)p(x)=p(x|y)p(y)\n",
    "$"
   ]
  },
  {
   "cell_type": "markdown",
   "metadata": {},
   "source": [
    "This is how you typically construct ([generative](https://en.wikipedia.org/wiki/Generative_model)) models. You basically say, if I knew $x$ then knowing $y$ would be simple. Let's take a physical example like throwing a ball. In a vaccum the trajectory of the ball would be a parabola. Under realistic conditions you have wind and other disturbances. But if you say, if I know where the ball measured by location $x$ (a 3 dimensional vector) was at $t=t_0$ then I could tell where the ball would be at $t=t_1$: \n",
    "\n",
    "$\n",
    "\\displaystyle\n",
    "\\begin{array}{rcl}\n",
    "x_1& = & x_0+v(t_1-t_0)+(g/2)(t_1-t_0)^2+\\varepsilon_m;\\quad\\text{with }\\varepsilon_m\\sim\\mathcal{N}(0,\\sigma_m)\\\\\n",
    "\\Rightarrow p(x_1\\,|\\,x_0) & = &\\mathcal{N}(x_0+v(t_1-t_0)+(g/2)(t_1-t_0)^2,\\sigma_m)\n",
    "\\end{array}\n",
    "$\n",
    "\n",
    "If you then in addition say that at time $t_0$ the ball was roughly at $\\mu_0+\\varepsilon_l$ with $\\varepsilon_l\\sim\\mathcal{N}(0,\\sigma_l)$, e.g. $p(x_0) = \\mathcal{N}(\\mu_0,\\sigma_l)$ then you can tell the probability distribution of $p(x_1)$ by:\n",
    "\n",
    "$\n",
    "\\displaystyle\n",
    "\\begin{array}{rcl}\n",
    "p(x_0,x_1) &=& p(x_0)\\cdot p(x_1\\,|\\,x_0) = \\mathcal{N}(\\mu_0,\\sigma_l)\\cdot\\mathcal{N}(x_0+v(t_1-t_0)+(g/2)(t_1-t_0)^2,\\sigma_m)\\\\\n",
    "p(x_1)&=&\\int p(x_0,x_1)\\mathrm{d}x_0\n",
    "\\end{array}\n",
    "$"
   ]
  },
  {
   "cell_type": "markdown",
   "metadata": {},
   "source": [
    "### Law of total probability (extending the conversation)"
   ]
  },
  {
   "cell_type": "markdown",
   "metadata": {},
   "source": [
    "Initially, when I saw the [law of total probability](https://en.wikipedia.org/wiki/Law_of_total_probability) for the first time I neglected it, because it looks like redundant to the Bayes' theorem:\n",
    "\n",
    "$\n",
    "p(x)=\\int p(x\\,|\\,y)\\cdot p(y)\\,\\mathrm{d}y\n",
    "$"
   ]
  },
  {
   "cell_type": "markdown",
   "metadata": {},
   "source": [
    "I only learned to appreciate this law really when reading chapter 1.3.6 \"The Law of Total Probability\" in [Causal Inference in Statistics - A Primer](https://www.amazon.com/Causal-Inference-Statistics-Judea-Pearl/dp/1119186846) by Judea Pearl ([Turing Award](https://en.wikipedia.org/wiki/Turing_Award) winner 2011), Madelyn Glymour and Nicholas P. Jewell. There they also presented it under different synonymous names like \"the law of alternatives\" or \"extending the conversation\". In the book they call it \"conditionalizing on y\", but the term \"extending the conversation\" was what *triggered* and understanding with me.\n",
    "\n",
    "Sometimes you just don't know how to get to $p(x)$, but if you knew $y$ you also would know how to get to $x$, e.g. you know $p(x\\,|\\,y)$. And often getting to a $p(y)$ is also possible.\n",
    "\n",
    "It is basically the reverse idea from above in the example with the motion of the ball. If you just said I want to know $p(x_1)$ I would not know how to get there, but if you introduce $p(x_1\\,|\\,x_0)$ this opens up the path for a recursive calculation to the point where the ball was thrown and at that point you either know the position exactly, e.g. $p(x)=\\delta(x = x_\\text{start})$ (where the $\\delta$ is the [Dirac delta](https://en.wikipedia.org/wiki/Dirac_delta_function)) or you give it some uncertainty, e.g. $p(x)=\\mathcal{N}(x_\\text{start},\\sigma_l)$. Etherway, you can construct a generative models."
   ]
  },
  {
   "cell_type": "markdown",
   "metadata": {},
   "source": [
    "## What is the \"right\" representation of (multi-dimensional) probability distributions?"
   ]
  },
  {
   "cell_type": "markdown",
   "metadata": {},
   "source": [
    "That is another point that took me some time to digest. The names like probability-density-function (PDF) or probability-mass-function (PMF) suggest a mathematical form like a function. The typical example is the gauss bell shape:"
   ]
  },
  {
   "cell_type": "code",
   "execution_count": 5,
   "metadata": {},
   "outputs": [
    {
     "data": {
      "image/png": "[encoded data removed]",
      "text/plain": [
       "<Figure size 480x240 with 1 Axes>"
      ]
     },
     "metadata": {},
     "output_type": "display_data"
    }
   ],
   "source": [
    "plt.figure(figsize=(6, 3), dpi=80, facecolor='w', edgecolor='k')\n",
    "ax = plt.subplot(1, 1, 1)\n",
    "x = np.linspace(-3.0,3.0,100)\n",
    "y = stats.norm(0,1).pdf(x)\n",
    "ax.plot(x,y);"
   ]
  },
  {
   "cell_type": "markdown",
   "metadata": {},
   "source": [
    "In this case the probability distribution function can actually be given as a mathematical function:\n",
    "\n",
    "$\\displaystyle\n",
    "\\frac{1}{\\sqrt{2\\pi}\\sigma}e^{- \\frac{\\left(x - \\mu\\right)^{2}}{2 \\sigma^{2}}}\n",
    "$\n",
    "\n",
    "But in most cases that is not the case. So what should you do then?\n",
    "\n",
    "I cannot remember anymore in which source I've read it, but the author said that for probability distributions the \"right\" representation might actually be collections of samples.\n",
    "\n",
    "Let's look at a toy example. We sample 1000 values from a normal distribution with mean 0 and standard deviation 1. Then we act as if we would only know that the samples are from a normal distribution, but mu and sigma would be unknown. In PyMC3 this example looks like that:"
   ]
  },
  {
   "cell_type": "code",
   "execution_count": 6,
   "metadata": {},
   "outputs": [
    {
     "name": "stderr",
     "output_type": "stream",
     "text": [
      "Auto-assigning NUTS sampler...\n",
      "Initializing NUTS using jitter+adapt_diag...\n",
      "Multiprocess sampling (4 chains in 4 jobs)\n",
      "NUTS: [sigma, mu]\n"
     ]
    },
    {
     "data": {
      "text/html": [
       "\n",
       "    <div>\n",
       "        <style>\n",
       "            /* Turns off some styling */\n",
       "            progress {\n",
       "                /* gets rid of default border in Firefox and Opera. */\n",
       "                border: none;\n",
       "                /* Needs to be in here for Safari polyfill so background images work as expected. */\n",
       "                background-size: auto;\n",
       "            }\n",
       "            .progress-bar-interrupted, .progress-bar-interrupted::-webkit-progress-bar {\n",
       "                background: #F44336;\n",
       "            }\n",
       "        </style>\n",
       "      <progress value='8000' class='' max='8000' style='width:300px; height:20px; vertical-align: middle;'></progress>\n",
       "      100.00% [8000/8000 00:01<00:00 Sampling 4 chains, 0 divergences]\n",
       "    </div>\n",
       "    "
      ],
      "text/plain": [
       "<IPython.core.display.HTML object>"
      ]
     },
     "metadata": {},
     "output_type": "display_data"
    },
    {
     "name": "stderr",
     "output_type": "stream",
     "text": [
      "Sampling 4 chains for 1_000 tune and 1_000 draw iterations (4_000 + 4_000 draws total) took 2 seconds.\n",
      "/home/local/cs/local/install/anaconda3-2021.05-Linux-x86_64/envs/py38ds/lib/python3.8/site-packages/numba/core/dispatcher.py:241: UserWarning: Numba extension module 'numba_scipy' failed to load due to 'ValueError(No function '__pyx_fuse_0pdtr' found in __pyx_capi__ of 'scipy.special.cython_special')'.\n",
      "  entrypoints.init_all()\n"
     ]
    }
   ],
   "source": [
    "samples = stats.norm(0,1).rvs([1000])\n",
    "\n",
    "with pm.Model() as model:\n",
    "    mu = pm.Normal(\"mu\", 0.0, 10.0)\n",
    "    sigma = pm.Gamma('sigma', alpha=3.0, beta=1.0)\n",
    "    x = pm.Normal(\"x\", mu=mu, sigma=sigma, observed=samples)\n",
    "    trace = pm.sample(return_inferencedata=True)"
   ]
  },
  {
   "cell_type": "markdown",
   "metadata": {},
   "source": [
    "Just as a reminder and to make the link to what we said above about the model let's be explicit and give the probability distribution function in sympy for two data-points instead of the 1000 from above. All that PyMC3 does is to construct such a total probability distribution function and evaluate it at the given data-points. So in our example $x_1$ and $x_2$ are given and $\\mu$ and $\\sigma$ are \"free\" variables.\n",
    "\n",
    "As another remark: the [Gamma distribution](https://en.wikipedia.org/wiki/Gamma_distribution) is sometimes parametrized via $\\alpha, \\beta$ and sometimes via $k, \\theta$: $\\alpha = k; \\beta=1/\\theta$"
   ]
  },
  {
   "cell_type": "code",
   "execution_count": 7,
   "metadata": {},
   "outputs": [
    {
     "data": {
      "text/latex": [
       "$\\displaystyle \\frac{\\sqrt{2} e^{- \\frac{\\mu^{2}}{200}}}{20 \\sqrt{\\pi}} \\frac{\\sigma^{2} e^{- \\sigma}}{2} \\frac{e^{- \\frac{\\left(- \\mu + x_{1}\\right)^{2}}{2 \\sigma^{2}}} e^{- \\frac{\\left(- \\mu + x_{2}\\right)^{2}}{2 \\sigma^{2}}}}{2 \\pi \\sigma^{2}}$"
      ],
      "text/plain": [
       "(sqrt(2)*exp(-\\mu**2/200)/(20*sqrt(pi)))*(\\sigma**2*exp(-\\sigma)/2)*(exp(-(-\\mu + x1)**2/(2*\\sigma**2))*exp(-(-\\mu + x2)**2/(2*\\sigma**2))/(2*pi*\\sigma**2))"
      ]
     },
     "execution_count": 7,
     "metadata": {},
     "output_type": "execute_result"
    }
   ],
   "source": [
    "smu, sx = sympy.symbols(r'\\mu x')\n",
    "sx1, sx2 = sympy.symbols(r'x1:3')\n",
    "ssigma = sympy.Symbol(\"\\sigma\", positive=True)\n",
    "\n",
    "prior_mu = sympy.stats.crv_types.NormalDistribution(0, 10).pdf(smu)\n",
    "prior_sigma = sympy.stats.crv_types.GammaDistribution(3, 1).pdf(ssigma)\n",
    "likelihood = sympy.stats.crv_types.NormalDistribution(smu, ssigma).pdf(sx1)*sympy.stats.crv_types.NormalDistribution(smu, ssigma).pdf(sx2)\n",
    "total = sympy.UnevaluatedExpr(prior_mu)*sympy.UnevaluatedExpr(prior_sigma)*sympy.UnevaluatedExpr(likelihood)\n",
    "total"
   ]
  },
  {
   "cell_type": "markdown",
   "metadata": {},
   "source": [
    "PyMC3 created a trace object containing samples of the \"free\"/unknown variables. We can look at them as follows:"
   ]
  },
  {
   "cell_type": "code",
   "execution_count": 8,
   "metadata": {},
   "outputs": [
    {
     "data": {
      "text/html": [
       "<div>\n",
       "<style scoped>\n",
       "    .dataframe tbody tr th:only-of-type {\n",
       "        vertical-align: middle;\n",
       "    }\n",
       "\n",
       "    .dataframe tbody tr th {\n",
       "        vertical-align: top;\n",
       "    }\n",
       "\n",
       "    .dataframe thead th {\n",
       "        text-align: right;\n",
       "    }\n",
       "</style>\n",
       "<table border=\"1\" class=\"dataframe\">\n",
       "  <thead>\n",
       "    <tr style=\"text-align: right;\">\n",
       "      <th></th>\n",
       "      <th></th>\n",
       "      <th>mu</th>\n",
       "      <th>sigma</th>\n",
       "    </tr>\n",
       "    <tr>\n",
       "      <th>chain</th>\n",
       "      <th>draw</th>\n",
       "      <th></th>\n",
       "      <th></th>\n",
       "    </tr>\n",
       "  </thead>\n",
       "  <tbody>\n",
       "    <tr>\n",
       "      <th rowspan=\"5\" valign=\"top\">0</th>\n",
       "      <th>0</th>\n",
       "      <td>-0.025535</td>\n",
       "      <td>0.995429</td>\n",
       "    </tr>\n",
       "    <tr>\n",
       "      <th>1</th>\n",
       "      <td>-0.000475</td>\n",
       "      <td>0.982951</td>\n",
       "    </tr>\n",
       "    <tr>\n",
       "      <th>2</th>\n",
       "      <td>0.036382</td>\n",
       "      <td>0.960661</td>\n",
       "    </tr>\n",
       "    <tr>\n",
       "      <th>3</th>\n",
       "      <td>0.069528</td>\n",
       "      <td>0.960479</td>\n",
       "    </tr>\n",
       "    <tr>\n",
       "      <th>4</th>\n",
       "      <td>0.052084</td>\n",
       "      <td>0.957739</td>\n",
       "    </tr>\n",
       "    <tr>\n",
       "      <th>...</th>\n",
       "      <th>...</th>\n",
       "      <td>...</td>\n",
       "      <td>...</td>\n",
       "    </tr>\n",
       "    <tr>\n",
       "      <th rowspan=\"5\" valign=\"top\">3</th>\n",
       "      <th>995</th>\n",
       "      <td>0.014148</td>\n",
       "      <td>1.015268</td>\n",
       "    </tr>\n",
       "    <tr>\n",
       "      <th>996</th>\n",
       "      <td>-0.010790</td>\n",
       "      <td>0.948807</td>\n",
       "    </tr>\n",
       "    <tr>\n",
       "      <th>997</th>\n",
       "      <td>0.061342</td>\n",
       "      <td>1.008478</td>\n",
       "    </tr>\n",
       "    <tr>\n",
       "      <th>998</th>\n",
       "      <td>0.041587</td>\n",
       "      <td>1.006843</td>\n",
       "    </tr>\n",
       "    <tr>\n",
       "      <th>999</th>\n",
       "      <td>0.046756</td>\n",
       "      <td>0.997424</td>\n",
       "    </tr>\n",
       "  </tbody>\n",
       "</table>\n",
       "<p>4000 rows × 2 columns</p>\n",
       "</div>"
      ],
      "text/plain": [
       "                  mu     sigma\n",
       "chain draw                    \n",
       "0     0    -0.025535  0.995429\n",
       "      1    -0.000475  0.982951\n",
       "      2     0.036382  0.960661\n",
       "      3     0.069528  0.960479\n",
       "      4     0.052084  0.957739\n",
       "...              ...       ...\n",
       "3     995   0.014148  1.015268\n",
       "      996  -0.010790  0.948807\n",
       "      997   0.061342  1.008478\n",
       "      998   0.041587  1.006843\n",
       "      999   0.046756  0.997424\n",
       "\n",
       "[4000 rows x 2 columns]"
      ]
     },
     "execution_count": 8,
     "metadata": {},
     "output_type": "execute_result"
    }
   ],
   "source": [
    "trace_df = trace['posterior'].to_dataframe()\n",
    "trace_df"
   ]
  },
  {
   "cell_type": "markdown",
   "metadata": {},
   "source": [
    "If we would want to know $\\mu$ and $\\sigma$ we could take the mean:"
   ]
  },
  {
   "cell_type": "code",
   "execution_count": 9,
   "metadata": {},
   "outputs": [
    {
     "data": {
      "text/html": [
       "<div>\n",
       "<style scoped>\n",
       "    .dataframe tbody tr th:only-of-type {\n",
       "        vertical-align: middle;\n",
       "    }\n",
       "\n",
       "    .dataframe tbody tr th {\n",
       "        vertical-align: top;\n",
       "    }\n",
       "\n",
       "    .dataframe thead th {\n",
       "        text-align: right;\n",
       "    }\n",
       "</style>\n",
       "<table border=\"1\" class=\"dataframe\">\n",
       "  <thead>\n",
       "    <tr style=\"text-align: right;\">\n",
       "      <th></th>\n",
       "      <th>0</th>\n",
       "    </tr>\n",
       "  </thead>\n",
       "  <tbody>\n",
       "    <tr>\n",
       "      <th>mu</th>\n",
       "      <td>0.019798</td>\n",
       "    </tr>\n",
       "    <tr>\n",
       "      <th>sigma</th>\n",
       "      <td>0.981421</td>\n",
       "    </tr>\n",
       "  </tbody>\n",
       "</table>\n",
       "</div>"
      ],
      "text/plain": [
       "              0\n",
       "mu     0.019798\n",
       "sigma  0.981421"
      ]
     },
     "execution_count": 9,
     "metadata": {},
     "output_type": "execute_result"
    }
   ],
   "source": [
    "trace_df.mean().to_frame()"
   ]
  },
  {
   "cell_type": "markdown",
   "metadata": {},
   "source": [
    "There is a built-in PyMC3 method that gives us more details in addition to the mean values:"
   ]
  },
  {
   "cell_type": "code",
   "execution_count": 10,
   "metadata": {},
   "outputs": [
    {
     "data": {
      "text/html": [
       "<div>\n",
       "<style scoped>\n",
       "    .dataframe tbody tr th:only-of-type {\n",
       "        vertical-align: middle;\n",
       "    }\n",
       "\n",
       "    .dataframe tbody tr th {\n",
       "        vertical-align: top;\n",
       "    }\n",
       "\n",
       "    .dataframe thead th {\n",
       "        text-align: right;\n",
       "    }\n",
       "</style>\n",
       "<table border=\"1\" class=\"dataframe\">\n",
       "  <thead>\n",
       "    <tr style=\"text-align: right;\">\n",
       "      <th></th>\n",
       "      <th>mean</th>\n",
       "      <th>sd</th>\n",
       "      <th>hdi_3%</th>\n",
       "      <th>hdi_97%</th>\n",
       "      <th>mcse_mean</th>\n",
       "      <th>mcse_sd</th>\n",
       "      <th>ess_bulk</th>\n",
       "      <th>ess_tail</th>\n",
       "      <th>r_hat</th>\n",
       "    </tr>\n",
       "  </thead>\n",
       "  <tbody>\n",
       "    <tr>\n",
       "      <th>mu</th>\n",
       "      <td>0.020</td>\n",
       "      <td>0.031</td>\n",
       "      <td>-0.038</td>\n",
       "      <td>0.074</td>\n",
       "      <td>0.001</td>\n",
       "      <td>0.0</td>\n",
       "      <td>3294.0</td>\n",
       "      <td>3168.0</td>\n",
       "      <td>1.0</td>\n",
       "    </tr>\n",
       "    <tr>\n",
       "      <th>sigma</th>\n",
       "      <td>0.981</td>\n",
       "      <td>0.023</td>\n",
       "      <td>0.941</td>\n",
       "      <td>1.024</td>\n",
       "      <td>0.000</td>\n",
       "      <td>0.0</td>\n",
       "      <td>3464.0</td>\n",
       "      <td>2734.0</td>\n",
       "      <td>1.0</td>\n",
       "    </tr>\n",
       "  </tbody>\n",
       "</table>\n",
       "</div>"
      ],
      "text/plain": [
       "        mean     sd  hdi_3%  hdi_97%  mcse_mean  mcse_sd  ess_bulk  ess_tail  r_hat\n",
       "mu     0.020  0.031  -0.038    0.074      0.001      0.0    3294.0    3168.0    1.0\n",
       "sigma  0.981  0.023   0.941    1.024      0.000      0.0    3464.0    2734.0    1.0"
      ]
     },
     "execution_count": 10,
     "metadata": {},
     "output_type": "execute_result"
    }
   ],
   "source": [
    "pm.summary(trace)"
   ]
  },
  {
   "cell_type": "markdown",
   "metadata": {},
   "source": [
    "The *hdi* stands for [Highest (Posterior) Density Interval](https://en.wikipedia.org/wiki/Credible_interval) and gives you the range in which credible values are located. As you can see our real values 0.0 for $\\mu$ and 1.0 for $\\sigma$ are within those hdi invervals.\n",
    "\n",
    "To get a better idea of the plausible parameter values we'll have a look at a [density plot](https://www.statsmodels.org/stable/examples/notebooks/generated/kernel_density.html)."
   ]
  },
  {
   "cell_type": "code",
   "execution_count": 11,
   "metadata": {},
   "outputs": [],
   "source": [
    "# list(statsmodels.nonparametric.kde.kernel_switch.keys())"
   ]
  },
  {
   "cell_type": "code",
   "execution_count": 12,
   "metadata": {},
   "outputs": [
    {
     "data": {
      "image/png": "[encoded data removed]",
      "text/plain": [
       "<Figure size 480x240 with 1 Axes>"
      ]
     },
     "metadata": {},
     "output_type": "display_data"
    }
   ],
   "source": [
    "def kdeplot(lds, parameter_name=None, x_min = None, x_max = None, ax=None, kernel='gau'):\n",
    "    if parameter_name is None and isinstance(lds, pd.Series):\n",
    "        parameter_name = lds.name\n",
    "    kde = sm.nonparametric.KDEUnivariate(lds)\n",
    "    kde.fit(kernel=kernel, fft=False, gridsize=2**10)\n",
    "    if x_min is None:\n",
    "        x_min = kde.support.min()\n",
    "    else:\n",
    "        x_min = min(kde.support.min(), x_min)\n",
    "    if x_max is None:\n",
    "        x_max = kde.support.max()\n",
    "    else:\n",
    "        x_max = max(kde.support.max(),  x_max)\n",
    "    x = np.linspace(x_min, x_max,100)\n",
    "    y = kde.evaluate(x)\n",
    "    if ax is None:\n",
    "        plt.figure(figsize=(6, 3), dpi=80, facecolor='w', edgecolor='k')\n",
    "        ax = plt.subplot(1, 1, 1)\n",
    "    ax.plot(x, y, lw=2)\n",
    "    ax.set_xlabel(parameter_name)\n",
    "    ax.set_ylabel('Density')\n",
    "    \n",
    "kdeplot(trace_df['mu'], x_min=-0.5, x_max=0.5)"
   ]
  },
  {
   "cell_type": "code",
   "execution_count": 13,
   "metadata": {},
   "outputs": [
    {
     "data": {
      "image/png": "[encoded data removed]",
      "text/plain": [
       "<Figure size 480x240 with 1 Axes>"
      ]
     },
     "metadata": {},
     "output_type": "display_data"
    }
   ],
   "source": [
    "kdeplot(trace_df['sigma'], x_min=0.75, x_max=1.2)"
   ]
  },
  {
   "cell_type": "markdown",
   "metadata": {},
   "source": [
    "We will talk about it in more detail below, but what we did above is that we looked at the marginal likelihood of only $\\mu$ or only $\\sigma$. If your probability density function is given as samples then marginalzing out other parameters is trivial. You only take the parameter(s) (the columns in the sample dataframe) you're interested in.\n",
    "\n",
    "It is important to understand that the samples, e.g. each row in the sample dataframe, are **jointly plausible**, e.g. they represent the joint probability distribution. If two parameters would be correlated you would see that in the pairsplot like below. In our example the two parameters are obviously uncorrelated."
   ]
  },
  {
   "cell_type": "code",
   "execution_count": 14,
   "metadata": {},
   "outputs": [
    {
     "data": {
      "image/png": "[encoded data removed]",
      "text/plain": [
       "<Figure size 432x432 with 6 Axes>"
      ]
     },
     "metadata": {},
     "output_type": "display_data"
    }
   ],
   "source": [
    "sns.pairplot(trace_df, height=3);"
   ]
  },
  {
   "cell_type": "markdown",
   "metadata": {},
   "source": [
    "## Operations on probability distributions: marginalization and conditional probability"
   ]
  },
  {
   "cell_type": "markdown",
   "metadata": {},
   "source": [
    "While the marginalization and conditional probability operations are quite involved when you deal with probability distributions in the form of mathematical functions these operations are trivial! if you have samples representing the probability distributions.\n",
    "\n",
    "Let's start with marginalization. Let's assume you have a joint probability distribution function $p(x,y)$ for two random variables $X$ and $Y$. Then you marginalize out $y$ be integrating over all values of $y$:\n",
    "\n",
    "$\n",
    "\\displaystyle\n",
    "\\begin{array}{rcl}\n",
    "p(x)&=&\\displaystyle\\int p(x,y)\\,\\mathrm{d}y\n",
    "\\end{array}\n",
    "$"
   ]
  },
  {
   "cell_type": "markdown",
   "metadata": {},
   "source": [
    "This integration may be quite involved even in simple cases like a [multi-variate normal distribution](https://en.wikipedia.org/wiki/Multivariate_normal_distribution). Have a look at [Bayes’ Theorem for Gaussians](http://web4.cs.ucl.ac.uk/staff/C.Bracegirdle/bayesTheoremForGaussians.pdf) by Chris Bracegirdle for details.\n",
    "\n",
    "In the case of samples marginalization is *trivial*! You simply sub-select the column(s) you're interested in and you get the marginal distribution for that parameter set.\n",
    "\n",
    "The conditional probability is defined as:\n",
    "\n",
    "$\n",
    "\\displaystyle\n",
    "\\begin{array}{rcl}\n",
    "p(x,y)&=&\\displaystyle p(y\\,|\\, x)p(x) \\\\\n",
    "\\Rightarrow p(y\\,|\\, x=x_0)&=&\\displaystyle \\frac{p(x_0,y)}{p(x_0)}\\\\\n",
    "&=&\\displaystyle \\frac{p(x=x_0,y)}{\\int p(x=x_0,y)\\mathrm{d}y} \\text{ you simply normalize the function } p(x=x_0,y)\n",
    "\\end{array}\n",
    "$\n",
    "\n",
    "You have to divide two distributions. I also show the variation where you use the marginalization $\\int p(x=x_0,y)\\mathrm{d}y$, because sometimes that's useful to remember. $p(x=x_0,y)$ is no probability distribution in $y$ any longer, because $\\int p(x=x_0,y)\\mathrm{d}y < 1$."
   ]
  },
  {
   "cell_type": "markdown",
   "metadata": {},
   "source": [
    "If you deal with samples then the conditional probability is calculated like an SQL *where* clause, e.g. you sub-select the dataframe for values where $x=x_0$. For continuous variables this condition is nearly never true. Therefore you have to sub-select with a *where* condition like $x_0-\\delta<x<x_0+\\delta$. Finally you only keep the columns (SQL projection) of the variables that are on the left hand side of the conditional probability bar ($(\\cdot\\,|\\,\\cdot)$), e.g. $y$ in our example."
   ]
  },
  {
   "cell_type": "markdown",
   "metadata": {},
   "source": [
    "## Calculations with random variables: convolutions and other nasty stuff"
   ]
  },
  {
   "cell_type": "markdown",
   "metadata": {},
   "source": [
    "Calculating with random variables when their distribution is given as mathematical functions is just painfully difficult. The book [The algebra of random variables](https://www.amazon.com/algebra-variables-probability-mathematical-statistics/dp/0471014060) by Melvine Dale Springer gives a detailed overview. But even the simplest example like adding two random variables like $X=X_1+X_2$ where $X_1\\sim p_1(x_1)$ and $X_2\\sim p_2(x_2)$ involves [convolutions](https://en.wikipedia.org/wiki/Convolution), e.g. $X\\sim p(x)= \\int p_1(x-x_2)p_2(x_2)\\,\\mathrm{d}x_2$. The library [PaCal](https://github.com/jszymon/pacal) (ProbAbilistic Calculator) or [SymPy](https://docs.sympy.org/latest/modules/stats.html) may help. Nevertheless it is just best to avoid these intricate calculations completely."
   ]
  },
  {
   "cell_type": "markdown",
   "metadata": {},
   "source": [
    "Luckily, in the world of samples, all of that is simple again! Imagine you have a distribution given as samples from $x_1$ and $x_2$. You then construct samples of $x_1+x_2$ by simply adding them up for every row in your samples dataframe, e.g. $x = x_1 + x_2$. And there you are, you have samples of the random variable $X$!"
   ]
  },
  {
   "cell_type": "markdown",
   "metadata": {},
   "source": [
    "Another example might be like above, like when we calculated the trajectory of the ball. You could also see that example as $X_1 = X_0 + \\Delta X$, where $\\Delta X$ would be a distribution depending on the time delta $t_1-t_2$, the velocity $v$ and the acceleration $g$. In such cases it is typically easiest to see one of the variables as the starting point, e.g. $X_0$ and then use the law of total probability to construct $p(x_0, x_1)=p(x_0)p(x_1\\,|\\,x_0)$ and then calculate on the \"conditional\" side of $p(x_1\\,|\\,x_0)$, e.g. \n",
    "\n",
    "$\n",
    "\\displaystyle\n",
    "p(x_1\\,|\\,x_0) = \\mathcal{N}(x_0+v(t_1-t_0)+(g/2)(t_1-t_0)^2,\\sigma_m)\n",
    "$\n",
    "\n",
    "As you can see, on the \"conditional\" side of $p(x_1\\,|\\,x_0)$ (the side involving $x_0$) we simply calculate like normal! We simply add, subtract, multiply and whatever else we want to do. We also avoid the convolution by sampling from the total joint probability distribution $p(x_0, x_1)$ and marginalizing on the samples by simply dropping the $x_0$ column if we really wanted to. **No convolutions and no other difficult operations on distributions**! Just normal math and sampling on the extended joint space."
   ]
  },
  {
   "cell_type": "markdown",
   "metadata": {},
   "source": [
    "## Density Estimation"
   ]
  },
  {
   "cell_type": "markdown",
   "metadata": {},
   "source": [
    "In the past, whenever I was dealing with machine learning methods, I always felt disappointed, disappointed about the lack of \"insight\" and \"understanding\" and that machine learning methods only give me a uni-directional way of reasoning.\n",
    "\n",
    "Let's take regression or classification for example. Even the recent really impressive success stories like [object detection](https://en.wikipedia.org/wiki/Object_detection) and [image segmentation](https://en.wikipedia.org/wiki/Image_segmentation) give you a way from an input to an output. If you wanted to know the most distinguishing features of a dog vs. a cat you're immediately out of luck.\n",
    "\n",
    "In my first encounter with [Bayesian networks](https://en.wikipedia.org/wiki/Bayesian_network) I was so impressed with the fact that you can not only reason forward from disease to symptoms, but also backward like given the symptoms of a patient, what are the most likely root causes, e.g. which disease might be the root cause and which actions/medicaments might be the best way forward.\n",
    "\n",
    "It took me quite some time to understand \"what I really wanted\". I wanted \"all the answers\", not only partial answers. And again some more time went by until I found the \"term\" that refers to what I want: [density estimation](https://en.wikipedia.org/wiki/Density_estimation). This term is often accompanied by other terms like [unsupervised learning](https://en.wikipedia.org/wiki/Unsupervised_learning) and recent advances in machine learning are also targeting density estimation directly via [deep generative models](https://en.wikipedia.org/wiki/Generative_model#Deep_generative_models). In the end it all boils down to \"discovering\" the [causal network](https://en.wikipedia.org/wiki/Causal_model) of the world, so that in the end you can answer any question you'd come up with, not only the ones the designer of the \"system\" wanted you to ask."
   ]
  },
  {
   "cell_type": "markdown",
   "metadata": {},
   "source": [
    "## The algorithm has to always perform the same heavy lifting: there is no ancestral sampling"
   ]
  },
  {
   "cell_type": "markdown",
   "metadata": {},
   "source": [
    "When I read the paper [Mixed Hamiltonian Monte Carlo for Mixed Discrete and Continuous Variables](https://arxiv.org/abs/1909.04852) by Guangyao Zhou he used an exmaple of a [24 dimensional Gaussian Mixture Model](https://github.com/StannisZhou/mixed_hmc/blob/master/momentum/potential/simple_gmm.py) **without observations** to show the power of his approach. Initially I felt as if this was cheating, because in the end [forward/ancestral](https://ermongroup.github.io/cs228-notes/inference/sampling) sampling is trival in that case. I had to remind myself that the MCMC algorithm he invented has to perform the same heavy lifting in the given example without observations as it has to perform in a situation that involves observations and the same number of free variables. The probabilistic programming languages and frameworks like [Stan](https://mc-stan.org/) or [PyMC3](https://docs.pymc.io/) do not employ any additional intelligence to decide which method might be most appropriate in which case.\n",
    "\n",
    "> You always take a model in the form of a scalar valued function representing the (unnormalized) total probability function and then you always apply the same hammer like an [SMC](https://www.amazon.com/-/de/dp-0387951466/dp/0387951466/) or [MCMC](https://www.amazon.com/-/de/dp-B008GXJVF8/dp/B008GXJVF8/) algorithm.\n",
    "\n",
    "If you want to be smart on that level you have to do it yourself as a human with your own brain."
   ]
  },
  {
   "cell_type": "markdown",
   "metadata": {},
   "source": [
    "## Appendix"
   ]
  },
  {
   "cell_type": "markdown",
   "metadata": {},
   "source": [
    "### Examples of mixed discrete continuous probability functions"
   ]
  },
  {
   "cell_type": "markdown",
   "metadata": {},
   "source": [
    "Below I am exaggerating the level of being explicite about each step and the level at which I use [sympy](https://www.sympy.org/en/index.html) to achieve this explicitness. I hope that this will help you from suffering a similar level of confusion that I found myself in. In addition you might learn to appreciate to use *sympy*, which is really great for symbolic algebra."
   ]
  },
  {
   "cell_type": "markdown",
   "metadata": {},
   "source": [
    "#### Two independent dice rolls "
   ]
  },
  {
   "cell_type": "markdown",
   "metadata": {},
   "source": [
    "The first one is what we currently look at: independent dice throws. Let's look at two independent dice throws where we don't know $\\theta\\in[0,1]$: $p(d_1,d_2,\\theta)=p(X_0=d_0\\,|\\,\\theta)\\cdot p(X_1=d_1\\,|\\,\\theta)\\cdot p(\\theta)$. If we take $p(\\theta)=\\mathrm{Beta}(1,1)=1$ for $\\theta\\in[0,1]$ we get for each dice a one dimensional matrix with two entries:"
   ]
  },
  {
   "cell_type": "code",
   "execution_count": 15,
   "metadata": {},
   "outputs": [
    {
     "data": {
      "text/latex": [
       "$\\displaystyle \\left[\\begin{matrix}1 - \\theta\\\\\\theta\\end{matrix}\\right]$"
      ],
      "text/plain": [
       "Matrix([\n",
       "[1 - \\theta],\n",
       "[    \\theta]])"
      ]
     },
     "execution_count": 15,
     "metadata": {},
     "output_type": "execute_result"
    }
   ],
   "source": [
    "stheta = sympy.var(r'\\theta')\n",
    "D1 = sympy.Matrix([[(1-stheta)], [stheta]])\n",
    "D1"
   ]
  },
  {
   "cell_type": "markdown",
   "metadata": {},
   "source": [
    "Where the entry with index 0 is the case where we receive \"tail\" and where the entry with index 1 is the case where we receive \"head\". We can index into that vector:"
   ]
  },
  {
   "cell_type": "code",
   "execution_count": 16,
   "metadata": {},
   "outputs": [
    {
     "data": {
      "text/latex": [
       "$\\displaystyle 1 - \\theta$"
      ],
      "text/plain": [
       "1 - \\theta"
      ]
     },
     "metadata": {},
     "output_type": "display_data"
    },
    {
     "data": {
      "text/latex": [
       "$\\displaystyle \\theta$"
      ],
      "text/plain": [
       "\\theta"
      ]
     },
     "metadata": {},
     "output_type": "display_data"
    }
   ],
   "source": [
    "display(D1[0]),display(D1[1]);"
   ]
  },
  {
   "cell_type": "markdown",
   "metadata": {},
   "source": [
    "For the second dice we take a 2x1 matrix, so that when we multiply the two we will get a 2x2 matrix for the 2x2 combinations of tail and head for each coin:"
   ]
  },
  {
   "cell_type": "code",
   "execution_count": 17,
   "metadata": {},
   "outputs": [
    {
     "data": {
      "text/latex": [
       "$\\displaystyle \\left[\\begin{matrix}\\left(1 - \\theta\\right)^{2} & \\theta \\left(1 - \\theta\\right)\\\\\\theta \\left(1 - \\theta\\right) & \\theta^{2}\\end{matrix}\\right]$"
      ],
      "text/plain": [
       "Matrix([\n",
       "[    (1 - \\theta)**2, \\theta*(1 - \\theta)],\n",
       "[\\theta*(1 - \\theta),           \\theta**2]])"
      ]
     },
     "execution_count": 17,
     "metadata": {},
     "output_type": "execute_result"
    }
   ],
   "source": [
    "D2 = sympy.Matrix([[(1-stheta), stheta]])\n",
    "D = D1*D2\n",
    "D"
   ]
  },
  {
   "cell_type": "markdown",
   "metadata": {},
   "source": [
    "We said above that a probability function needs to be a function that takes as arguments the values of all random variables and delivers a scalar. In python this would look like:"
   ]
  },
  {
   "cell_type": "code",
   "execution_count": 18,
   "metadata": {},
   "outputs": [],
   "source": [
    "def two_dice_roll_probability_function(theta, d1, d2):\n",
    "    v = D.subs(stheta, theta)\n",
    "    v = v[d1,d2] # we use indexing to access a concrete slot in the multi dimensional array\n",
    "    return v"
   ]
  },
  {
   "cell_type": "markdown",
   "metadata": {},
   "source": [
    "If we then wanted to know the probability of one head and one tail for a fair coin we would get:"
   ]
  },
  {
   "cell_type": "code",
   "execution_count": 19,
   "metadata": {},
   "outputs": [
    {
     "data": {
      "text/latex": [
       "$\\displaystyle \\frac{1}{2}$"
      ],
      "text/plain": [
       "1/2"
      ]
     },
     "metadata": {},
     "output_type": "display_data"
    },
    {
     "data": {
      "text/latex": [
       "$\\displaystyle \\frac{1}{4}$"
      ],
      "text/plain": [
       "1/4"
      ]
     },
     "execution_count": 19,
     "metadata": {},
     "output_type": "execute_result"
    }
   ],
   "source": [
    "theta = sympy.Integer(1)/2\n",
    "display(theta)\n",
    "two_dice_roll_probability_function(theta, 1, 0)"
   ]
  },
  {
   "cell_type": "markdown",
   "metadata": {},
   "source": [
    "The other way we could have done it would be by the use of the [Kronecker_delta](https://en.wikipedia.org/wiki/Kronecker_delta) and using the fact that any number to the power of $0$ is $1$: $x^0=1$, e.g. the neutral element of our product of probability functions."
   ]
  },
  {
   "cell_type": "code",
   "execution_count": 20,
   "metadata": {},
   "outputs": [
    {
     "data": {
      "text/plain": [
       "(d1, d2)"
      ]
     },
     "execution_count": 20,
     "metadata": {},
     "output_type": "execute_result"
    }
   ],
   "source": [
    "sd1, sd2 = sympy.symbols('d1:3') # we define two new sympy symbols for d1 and d2\n",
    "sd1, sd2"
   ]
  },
  {
   "cell_type": "markdown",
   "metadata": {},
   "source": [
    "Below the first $1$ is to remind us of the $p(\\theta)=\\mathrm{Beta}(1,1)=1$. In case that we used another prior this would be a different factor."
   ]
  },
  {
   "cell_type": "code",
   "execution_count": 21,
   "metadata": {},
   "outputs": [
    {
     "data": {
      "text/latex": [
       "$\\displaystyle \\theta^{\\delta_{1 d_{1}}} \\theta^{\\delta_{1 d_{2}}} \\left(1 - \\theta\\right)^{\\delta_{0 d_{1}}} \\left(1 - \\theta\\right)^{\\delta_{0 d_{2}}}$"
      ],
      "text/plain": [
       "\\theta**KroneckerDelta(1, d1)*\\theta**KroneckerDelta(1, d2)*(1 - \\theta)**KroneckerDelta(0, d1)*(1 - \\theta)**KroneckerDelta(0, d2)"
      ]
     },
     "execution_count": 21,
     "metadata": {},
     "output_type": "execute_result"
    }
   ],
   "source": [
    "D_ = 1*(1-stheta)**sympy.KroneckerDelta(0,sd1)*stheta**sympy.KroneckerDelta(1,sd1)*(1-stheta)**sympy.KroneckerDelta(0,sd2)*stheta**sympy.KroneckerDelta(1,sd2)\n",
    "D_"
   ]
  },
  {
   "cell_type": "code",
   "execution_count": 22,
   "metadata": {},
   "outputs": [],
   "source": [
    "def two_dice_roll_probability_function_(theta, d1, d2):\n",
    "    v = D_.subs(stheta, theta)\n",
    "    v = v.subs(sd1,d1)\n",
    "    v = v.subs(sd2,d2)\n",
    "    return v"
   ]
  },
  {
   "cell_type": "markdown",
   "metadata": {},
   "source": [
    "And of course you get the same result:"
   ]
  },
  {
   "cell_type": "code",
   "execution_count": 23,
   "metadata": {
    "scrolled": false
   },
   "outputs": [
    {
     "data": {
      "text/latex": [
       "$\\displaystyle \\frac{1}{4}$"
      ],
      "text/plain": [
       "1/4"
      ]
     },
     "execution_count": 23,
     "metadata": {},
     "output_type": "execute_result"
    }
   ],
   "source": [
    "two_dice_roll_probability_function(theta, 1, 0)"
   ]
  },
  {
   "cell_type": "markdown",
   "metadata": {},
   "source": [
    "The Kronecker delta variant looks more like a function, but a computer works better with an index lookup in a matrix. Finally we could use an **if-then-else** structure, but many probabilistic programming environments behave clumsy when it comes to if-then-else constructs."
   ]
  },
  {
   "cell_type": "markdown",
   "metadata": {},
   "source": [
    "#### Two component mixture model"
   ]
  },
  {
   "cell_type": "markdown",
   "metadata": {},
   "source": [
    "The second example is a two component mixture model. In most cases people will show a mixture of two Gaussians, but with two Gaussians you can get away with using an array of $\\mu$ and $\\sigma$. Let's look at mixing one Gaussian with one Exponential distribution:"
   ]
  },
  {
   "cell_type": "code",
   "execution_count": 24,
   "metadata": {},
   "outputs": [
    {
     "data": {
      "text/latex": [
       "$\\displaystyle \\left[\\begin{matrix}\\mu & \\sigma & \\lambda & x & x_{1} & x_{2} & i & j & p_{0} & p_{1}\\end{matrix}\\right]$"
      ],
      "text/plain": [
       "Matrix([[\\mu, \\sigma, \\lambda, x, x1, x2, i, j, p0, p1]])"
      ]
     },
     "execution_count": 24,
     "metadata": {},
     "output_type": "execute_result"
    }
   ],
   "source": [
    "smu, sx = sympy.symbols(r'\\mu x')\n",
    "sx1, sx2 = sympy.symbols(r'x1:3')\n",
    "si, sj = sympy.symbols('i j', integer=True)\n",
    "sp0, sp1 = sympy.symbols(r'p:2')\n",
    "ssigma = sympy.Symbol(\"\\sigma\", positive=True)\n",
    "slambda = sympy.Symbol(\"\\lambda\", positive=True)\n",
    "sympy.Matrix([smu, ssigma, slambda, sx, sx1, sx2, si, sj, sp0, sp1]).T # just for displaying the symbols"
   ]
  },
  {
   "cell_type": "code",
   "execution_count": 25,
   "metadata": {},
   "outputs": [
    {
     "data": {
      "text/latex": [
       "$\\displaystyle \\frac{\\sqrt{2} e^{- \\frac{\\left(- \\mu + x\\right)^{2}}{2 \\sigma^{2}}}}{2 \\sqrt{\\pi} \\sigma}$"
      ],
      "text/plain": [
       "sqrt(2)*exp(-(-\\mu + x)**2/(2*\\sigma**2))/(2*sqrt(pi)*\\sigma)"
      ]
     },
     "execution_count": 25,
     "metadata": {},
     "output_type": "execute_result"
    }
   ],
   "source": [
    "sympy.stats.crv_types.NormalDistribution(smu, ssigma).pdf(sx)"
   ]
  },
  {
   "cell_type": "code",
   "execution_count": 26,
   "metadata": {},
   "outputs": [
    {
     "data": {
      "text/latex": [
       "$\\displaystyle \\lambda e^{- \\lambda x}$"
      ],
      "text/plain": [
       "\\lambda*exp(-\\lambda*x)"
      ]
     },
     "execution_count": 26,
     "metadata": {},
     "output_type": "execute_result"
    }
   ],
   "source": [
    "sympy.stats.crv_types.ExponentialDistribution(slambda).pdf(sx)"
   ]
  },
  {
   "cell_type": "markdown",
   "metadata": {},
   "source": [
    "For the mixture to work we use a mixture indicator $i\\in\\{0,1\\}$. If $i$ is 0 then we draw from the Exponential distribution and when $i$ is 1 we draw from the normal distribution. "
   ]
  },
  {
   "cell_type": "code",
   "execution_count": 27,
   "metadata": {},
   "outputs": [
    {
     "data": {
      "text/latex": [
       "$\\displaystyle \\begin{cases} p_{1} & \\text{for}\\: x = 1 \\\\1 - p_{1} & \\text{for}\\: x = 0 \\\\0 & \\text{otherwise} \\end{cases}$"
      ],
      "text/plain": [
       "Piecewise((p1, Eq(x, 1)), (1 - p1, Eq(x, 0)), (0, True))"
      ]
     },
     "execution_count": 27,
     "metadata": {},
     "output_type": "execute_result"
    }
   ],
   "source": [
    "sympy.stats.frv_types.BernoulliDistribution(sp1, 1, 0).pmf(sx)"
   ]
  },
  {
   "cell_type": "code",
   "execution_count": 28,
   "metadata": {},
   "outputs": [
    {
     "name": "stdout",
     "output_type": "stream",
     "text": [
      "\\begin{cases} p_{1} & \\text{for}\\: x = 1 \\\\1 - p_{1} & \\text{for}\\: x = 0 \\\\0 & \\text{otherwise} \\end{cases}\n"
     ]
    }
   ],
   "source": [
    "print(sympy.latex(sympy.stats.frv_types.BernoulliDistribution(sp1, 1, 0).pmf(sx)))"
   ]
  },
  {
   "cell_type": "code",
   "execution_count": 29,
   "metadata": {},
   "outputs": [
    {
     "data": {
      "text/latex": [
       "$\\displaystyle p_{1}$"
      ],
      "text/plain": [
       "p1"
      ]
     },
     "execution_count": 29,
     "metadata": {},
     "output_type": "execute_result"
    }
   ],
   "source": [
    "sympy.stats.frv_types.BernoulliDistribution(sp1, 1, 0).pmf(1)"
   ]
  },
  {
   "cell_type": "code",
   "execution_count": 30,
   "metadata": {},
   "outputs": [
    {
     "data": {
      "text/latex": [
       "$\\displaystyle 1 - p_{1}$"
      ],
      "text/plain": [
       "1 - p1"
      ]
     },
     "execution_count": 30,
     "metadata": {},
     "output_type": "execute_result"
    }
   ],
   "source": [
    "sympy.stats.frv_types.BernoulliDistribution(sp1, 1, 0).pmf(0)"
   ]
  },
  {
   "cell_type": "markdown",
   "metadata": {},
   "source": [
    "$\n",
    "\\displaystyle\n",
    "p(p_1,i,\\lambda,\\mu,\\sigma,x)=p(p_1)p(i\\,|\\,p_1)\\begin{cases}p(\\lambda)p(x\\,|\\,\\lambda) & \\text{for}\\: i = 0\\\\ p(\\mu)p(\\sigma)p(x\\,|\\,\\mu,\\sigma) & \\text{for}\\: i = 1 \\\\0 & \\text{otherwise} \\end{cases}\n",
    "$"
   ]
  },
  {
   "cell_type": "code",
   "execution_count": 31,
   "metadata": {},
   "outputs": [
    {
     "data": {
      "text/latex": [
       "$\\displaystyle \\frac{\\left(\\lambda \\left(1 - p_{1}\\right) e^{- \\lambda x_{1}}\\right)^{\\delta_{0 i}} \\left(\\lambda \\left(1 - p_{1}\\right) e^{- \\lambda x_{2}}\\right)^{\\delta_{0 j}} \\left(\\frac{\\sqrt{2} p_{1} e^{- \\frac{\\left(- \\mu + x_{1}\\right)^{2}}{2 \\sigma^{2}}}}{2 \\sqrt{\\pi} \\sigma}\\right)^{\\delta_{1 i}} \\left(\\frac{\\sqrt{2} p_{1} e^{- \\frac{\\left(- \\mu + x_{2}\\right)^{2}}{2 \\sigma^{2}}}}{2 \\sqrt{\\pi} \\sigma}\\right)^{\\delta_{1 j}} e^{- \\lambda} e^{- \\frac{\\mu^{2}}{10000}} e^{- 2 \\sigma}}{20000 \\pi}$"
      ],
      "text/plain": [
       "(\\lambda*(1 - p1)*exp(-\\lambda*x1))**KroneckerDelta(0, i)*(\\lambda*(1 - p1)*exp(-\\lambda*x2))**KroneckerDelta(0, j)*(sqrt(2)*p1*exp(-(-\\mu + x1)**2/(2*\\sigma**2))/(2*sqrt(pi)*\\sigma))**KroneckerDelta(1, i)*(sqrt(2)*p1*exp(-(-\\mu + x2)**2/(2*\\sigma**2))/(2*sqrt(pi)*\\sigma))**KroneckerDelta(1, j)*exp(-\\lambda)*exp(-\\mu**2/10000)*exp(-2*\\sigma)/(20000*pi)"
      ]
     },
     "execution_count": 31,
     "metadata": {},
     "output_type": "execute_result"
    }
   ],
   "source": [
    "sprior_exponential = sympy.stats.crv_types.ExponentialDistribution(1).pdf(slambda)\n",
    "sprior_normal = sympy.stats.crv_types.ExponentialDistribution(1).pdf(ssigma)*sympy.stats.crv_types.NormalDistribution(0, 100).pdf(smu)\n",
    "sprior_mixture_components = sprior_normal*sympy.stats.crv_types.BetaDistribution(1,1).pdf(sp1)\n",
    "sprior = sprior_exponential*sprior_normal*sprior_mixture_components\n",
    "smixture_likelihood = \\\n",
    "    (sympy.stats.frv_types.BernoulliDistribution(sp1, 1, 0).pmf(0)*sympy.stats.crv_types.ExponentialDistribution(slambda).pdf(sx1))**sympy.KroneckerDelta(0,si) * \\\n",
    "    (sympy.stats.frv_types.BernoulliDistribution(sp1, 1, 0).pmf(1)*sympy.stats.crv_types.NormalDistribution(smu, ssigma).pdf(sx1))**sympy.KroneckerDelta(1,si) * \\\n",
    "    (sympy.stats.frv_types.BernoulliDistribution(sp1, 1, 0).pmf(0)*sympy.stats.crv_types.ExponentialDistribution(slambda).pdf(sx2))**sympy.KroneckerDelta(0,sj) * \\\n",
    "    (sympy.stats.frv_types.BernoulliDistribution(sp1, 1, 0).pmf(1)*sympy.stats.crv_types.NormalDistribution(smu, ssigma).pdf(sx2))**sympy.KroneckerDelta(1,sj)\n",
    "smixture = sprior * smixture_likelihood\n",
    "smixture "
   ]
  },
  {
   "cell_type": "code",
   "execution_count": 32,
   "metadata": {},
   "outputs": [
    {
     "data": {
      "text/latex": [
       "$\\displaystyle \\frac{\\left(\\lambda \\left(1 - p_{1}\\right) e^{- \\lambda x_{1}} + \\frac{\\sqrt{2} p_{1} e^{- \\frac{\\left(- \\mu + x_{1}\\right)^{2}}{2 \\sigma^{2}}}}{2 \\sqrt{\\pi} \\sigma}\\right) \\left(\\lambda \\left(1 - p_{1}\\right) e^{- \\lambda x_{2}} + \\frac{\\sqrt{2} p_{1} e^{- \\frac{\\left(- \\mu + x_{2}\\right)^{2}}{2 \\sigma^{2}}}}{2 \\sqrt{\\pi} \\sigma}\\right) e^{- \\lambda} e^{- \\frac{\\mu^{2}}{10000}} e^{- 2 \\sigma}}{20000 \\pi}$"
      ],
      "text/plain": [
       "(\\lambda*(1 - p1)*exp(-\\lambda*x1) + sqrt(2)*p1*exp(-(-\\mu + x1)**2/(2*\\sigma**2))/(2*sqrt(pi)*\\sigma))*(\\lambda*(1 - p1)*exp(-\\lambda*x2) + sqrt(2)*p1*exp(-(-\\mu + x2)**2/(2*\\sigma**2))/(2*sqrt(pi)*\\sigma))*exp(-\\lambda)*exp(-\\mu**2/10000)*exp(-2*\\sigma)/(20000*pi)"
      ]
     },
     "execution_count": 32,
     "metadata": {},
     "output_type": "execute_result"
    }
   ],
   "source": [
    "marginal_likelihood1 = sympy.summation(smixture, (si, 0, 1), (sj, 0, 1))\n",
    "marginal_likelihood1"
   ]
  },
  {
   "cell_type": "code",
   "execution_count": 33,
   "metadata": {},
   "outputs": [
    {
     "data": {
      "text/latex": [
       "$\\displaystyle \\left(\\lambda \\left(1 - p_{1}\\right) e^{- \\lambda x_{1}} + \\frac{\\sqrt{2} p_{1} e^{- \\frac{\\left(- \\mu + x_{1}\\right)^{2}}{2 \\sigma^{2}}}}{2 \\sqrt{\\pi} \\sigma}\\right) \\left(\\lambda \\left(1 - p_{1}\\right) e^{- \\lambda x_{2}} + \\frac{\\sqrt{2} p_{1} e^{- \\frac{\\left(- \\mu + x_{2}\\right)^{2}}{2 \\sigma^{2}}}}{2 \\sqrt{\\pi} \\sigma}\\right)$"
      ],
      "text/plain": [
       "(\\lambda*(1 - p1)*exp(-\\lambda*x1) + sqrt(2)*p1*exp(-(-\\mu + x1)**2/(2*\\sigma**2))/(2*sqrt(pi)*\\sigma))*(\\lambda*(1 - p1)*exp(-\\lambda*x2) + sqrt(2)*p1*exp(-(-\\mu + x2)**2/(2*\\sigma**2))/(2*sqrt(pi)*\\sigma))"
      ]
     },
     "execution_count": 33,
     "metadata": {},
     "output_type": "execute_result"
    }
   ],
   "source": [
    "sympy.summation(smixture_likelihood, (si, 0, 1), (sj, 0, 1))"
   ]
  },
  {
   "cell_type": "code",
   "execution_count": 34,
   "metadata": {},
   "outputs": [
    {
     "data": {
      "text/latex": [
       "$\\displaystyle \\frac{e^{- \\lambda} e^{- \\frac{\\mu^{2}}{10000}} e^{- 2 \\sigma} \\left[\\begin{matrix}\\lambda^{2} \\left(1 - p_{1}\\right)^{2} e^{- \\lambda x_{1}} e^{- \\lambda x_{2}} & \\frac{\\sqrt{2} \\lambda p_{1} \\left(1 - p_{1}\\right) e^{- \\lambda x_{1}} e^{- \\frac{\\left(- \\mu + x_{2}\\right)^{2}}{2 \\sigma^{2}}}}{2 \\sqrt{\\pi} \\sigma}\\\\\\frac{\\sqrt{2} \\lambda p_{1} \\left(1 - p_{1}\\right) e^{- \\lambda x_{2}} e^{- \\frac{\\left(- \\mu + x_{1}\\right)^{2}}{2 \\sigma^{2}}}}{2 \\sqrt{\\pi} \\sigma} & \\frac{p_{1}^{2} e^{- \\frac{\\left(- \\mu + x_{1}\\right)^{2}}{2 \\sigma^{2}}} e^{- \\frac{\\left(- \\mu + x_{2}\\right)^{2}}{2 \\sigma^{2}}}}{2 \\pi \\sigma^{2}}\\end{matrix}\\right]}{20000 \\pi}$"
      ],
      "text/plain": [
       "exp(-\\lambda)*exp(-\\mu**2/10000)*exp(-2*\\sigma)*Matrix([\n",
       "[                                           \\lambda**2*(1 - p1)**2*exp(-\\lambda*x1)*exp(-\\lambda*x2), sqrt(2)*\\lambda*p1*(1 - p1)*exp(-\\lambda*x1)*exp(-(-\\mu + x2)**2/(2*\\sigma**2))/(2*sqrt(pi)*\\sigma)],\n",
       "[sqrt(2)*\\lambda*p1*(1 - p1)*exp(-\\lambda*x2)*exp(-(-\\mu + x1)**2/(2*\\sigma**2))/(2*sqrt(pi)*\\sigma),        p1**2*exp(-(-\\mu + x1)**2/(2*\\sigma**2))*exp(-(-\\mu + x2)**2/(2*\\sigma**2))/(2*pi*\\sigma**2)]])/(20000*pi)"
      ]
     },
     "execution_count": 34,
     "metadata": {},
     "output_type": "execute_result"
    }
   ],
   "source": [
    "M1 = sympy.Matrix([\n",
    "    sympy.stats.frv_types.BernoulliDistribution(sp1, 1, 0).pmf(0)*sympy.stats.crv_types.ExponentialDistribution(slambda).pdf(sx1), \n",
    "    sympy.stats.frv_types.BernoulliDistribution(sp1, 1, 0).pmf(1)*sympy.stats.crv_types.NormalDistribution(smu, ssigma).pdf(sx1)])\n",
    "M2 = sympy.Matrix([[\n",
    "    sympy.stats.frv_types.BernoulliDistribution(sp1, 1, 0).pmf(0)*sympy.stats.crv_types.ExponentialDistribution(slambda).pdf(sx2), \n",
    "    sympy.stats.frv_types.BernoulliDistribution(sp1, 1, 0).pmf(1)*sympy.stats.crv_types.NormalDistribution(smu, ssigma).pdf(sx2)]])\n",
    "M = M1 * M2\n",
    "E = sprior * sympy.UnevaluatedExpr(M)\n",
    "E"
   ]
  },
  {
   "cell_type": "code",
   "execution_count": 35,
   "metadata": {},
   "outputs": [],
   "source": [
    "E_ = E.doit()"
   ]
  },
  {
   "cell_type": "code",
   "execution_count": 36,
   "metadata": {},
   "outputs": [
    {
     "data": {
      "text/latex": [
       "$\\displaystyle \\frac{\\lambda^{2} \\left(1 - p_{1}\\right)^{2} e^{- \\lambda} e^{- \\frac{\\mu^{2}}{10000}} e^{- 2 \\sigma} e^{- \\lambda x_{1}} e^{- \\lambda x_{2}}}{20000 \\pi}$"
      ],
      "text/plain": [
       "\\lambda**2*(1 - p1)**2*exp(-\\lambda)*exp(-\\mu**2/10000)*exp(-2*\\sigma)*exp(-\\lambda*x1)*exp(-\\lambda*x2)/(20000*pi)"
      ]
     },
     "execution_count": 36,
     "metadata": {},
     "output_type": "execute_result"
    }
   ],
   "source": [
    "E_[0,0]"
   ]
  },
  {
   "cell_type": "code",
   "execution_count": 37,
   "metadata": {
    "scrolled": true
   },
   "outputs": [
    {
     "data": {
      "text/latex": [
       "$\\displaystyle \\frac{\\lambda^{2} \\left(1 - p_{1}\\right)^{2} e^{- \\lambda} e^{- \\frac{\\mu^{2}}{10000}} e^{- 2 \\sigma} e^{- \\lambda x_{1}} e^{- \\lambda x_{2}}}{20000 \\pi} + \\frac{\\sqrt{2} \\lambda p_{1} \\left(1 - p_{1}\\right) e^{- \\lambda} e^{- \\frac{\\mu^{2}}{10000}} e^{- 2 \\sigma} e^{- \\lambda x_{2}} e^{- \\frac{\\left(- \\mu + x_{1}\\right)^{2}}{2 \\sigma^{2}}}}{40000 \\pi^{\\frac{3}{2}} \\sigma} + \\frac{\\sqrt{2} \\lambda p_{1} \\left(1 - p_{1}\\right) e^{- \\lambda} e^{- \\frac{\\mu^{2}}{10000}} e^{- 2 \\sigma} e^{- \\lambda x_{1}} e^{- \\frac{\\left(- \\mu + x_{2}\\right)^{2}}{2 \\sigma^{2}}}}{40000 \\pi^{\\frac{3}{2}} \\sigma} + \\frac{p_{1}^{2} e^{- \\lambda} e^{- \\frac{\\mu^{2}}{10000}} e^{- 2 \\sigma} e^{- \\frac{\\left(- \\mu + x_{1}\\right)^{2}}{2 \\sigma^{2}}} e^{- \\frac{\\left(- \\mu + x_{2}\\right)^{2}}{2 \\sigma^{2}}}}{40000 \\pi^{2} \\sigma^{2}}$"
      ],
      "text/plain": [
       "\\lambda**2*(1 - p1)**2*exp(-\\lambda)*exp(-\\mu**2/10000)*exp(-2*\\sigma)*exp(-\\lambda*x1)*exp(-\\lambda*x2)/(20000*pi) + sqrt(2)*\\lambda*p1*(1 - p1)*exp(-\\lambda)*exp(-\\mu**2/10000)*exp(-2*\\sigma)*exp(-\\lambda*x2)*exp(-(-\\mu + x1)**2/(2*\\sigma**2))/(40000*pi**(3/2)*\\sigma) + sqrt(2)*\\lambda*p1*(1 - p1)*exp(-\\lambda)*exp(-\\mu**2/10000)*exp(-2*\\sigma)*exp(-\\lambda*x1)*exp(-(-\\mu + x2)**2/(2*\\sigma**2))/(40000*pi**(3/2)*\\sigma) + p1**2*exp(-\\lambda)*exp(-\\mu**2/10000)*exp(-2*\\sigma)*exp(-(-\\mu + x1)**2/(2*\\sigma**2))*exp(-(-\\mu + x2)**2/(2*\\sigma**2))/(40000*pi**2*\\sigma**2)"
      ]
     },
     "execution_count": 37,
     "metadata": {},
     "output_type": "execute_result"
    }
   ],
   "source": [
    "marginal_likelihood2 = sympy.Add(*[E_[i, j] for i in range(2) for j in range(2)])\n",
    "marginal_likelihood2"
   ]
  },
  {
   "cell_type": "code",
   "execution_count": 38,
   "metadata": {},
   "outputs": [
    {
     "data": {
      "text/latex": [
       "$\\displaystyle 0$"
      ],
      "text/plain": [
       "0"
      ]
     },
     "execution_count": 38,
     "metadata": {},
     "output_type": "execute_result"
    }
   ],
   "source": [
    "sympy.simplify(marginal_likelihood1 - marginal_likelihood2)"
   ]
  }
 ],
 "metadata": {
  "kernelspec": {
   "display_name": "Python 3",
   "language": "python",
   "name": "python3"
  },
  "language_info": {
   "codemirror_mode": {
    "name": "ipython",
    "version": 3
   },
   "file_extension": ".py",
   "mimetype": "text/x-python",
   "name": "python",
   "nbconvert_exporter": "python",
   "pygments_lexer": "ipython3",
   "version": "3.8.10"
  },
  "toc": {
   "base_numbering": 1,
   "nav_menu": {
    "height": "274px",
    "width": "800px"
   },
   "number_sections": true,
   "sideBar": true,
   "skip_h1_title": true,
   "title_cell": "Table of Contents",
   "title_sidebar": "Contents",
   "toc_cell": true,
   "toc_position": {
    "height": "calc(100% - 180px)",
    "left": "10px",
    "top": "150px",
    "width": "688px"
   },
   "toc_section_display": true,
   "toc_window_display": true
  }
 },
 "nbformat": 4,
 "nbformat_minor": 2
}
