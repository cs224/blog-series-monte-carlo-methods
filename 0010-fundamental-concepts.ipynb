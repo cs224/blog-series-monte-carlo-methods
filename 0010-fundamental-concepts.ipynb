{
 "cells": [
  {
   "cell_type": "code",
   "execution_count": 1,
   "metadata": {
    "hide_input": true,
    "scrolled": true,
    "tags": [
     "hide_input"
    ]
   },
   "outputs": [
    {
     "data": {
      "text/html": [
       "<style>.container { width:70% !important; }</style>"
      ],
      "text/plain": [
       "<IPython.core.display.HTML object>"
      ]
     },
     "metadata": {},
     "output_type": "display_data"
    }
   ],
   "source": [
    "from IPython.display import HTML\n",
    "from IPython.display import display\n",
    "\n",
    "display(HTML(\"<style>.container { width:70% !important; }</style>\"))"
   ]
  },
  {
   "cell_type": "code",
   "execution_count": 2,
   "metadata": {
    "hide_input": true,
    "tags": [
     "hide_input"
    ]
   },
   "outputs": [],
   "source": [
    "%matplotlib inline\n",
    "import numpy as np, scipy, scipy.stats as stats, pandas as pd, matplotlib.pyplot as plt, seaborn as sns\n",
    "import sympy, sympy.stats\n",
    "import pymc3 as pm\n",
    "import daft\n",
    "\n",
    "pd.set_option('display.max_columns', 500)\n",
    "pd.set_option('display.width', 1000)\n",
    "# pd.set_option('display.float_format', lambda x: '%.2f' % x)\n",
    "np.set_printoptions(edgeitems=10)\n",
    "np.set_printoptions(linewidth=1000)\n",
    "np.set_printoptions(suppress=True)\n",
    "np.core.arrayprint._line_width = 180\n",
    "\n",
    "SEED = 42\n",
    "np.random.seed(SEED)\n",
    "\n",
    "sns.set()"
   ]
  },
  {
   "cell_type": "markdown",
   "metadata": {},
   "source": [
    "This blog post is part of the [Series: Monte Carlo Methods](https://weisser-zwerg.dev/posts/series-monte-carlo-methods/).\n",
    "\n",
    "You can find this blog post on [weisser-zwerg.dev](https://weisser-zwerg.dev/posts/monte-carlo-fundamental-concepts/), [github](https://github.com/cs224/blog-series-monte-carlo-methods) and [nbviewer](https://nbviewer.jupyter.org/github/cs224/blog-series-monte-carlo-methods/blob/main/0010-fundamental-concepts.ipynb?flush_cache=true)."
   ]
  },
  {
   "cell_type": "markdown",
   "metadata": {},
   "source": [
    "# Monte Carlo Fundamental Concepts"
   ]
  },
  {
   "cell_type": "markdown",
   "metadata": {},
   "source": [
    "## Boundary between statistics and machine learning / AI"
   ]
  },
  {
   "cell_type": "markdown",
   "metadata": {},
   "source": [
    "Only very recently I found the work of 2010 [Turning Award](https://en.wikipedia.org/wiki/Turing_Award) winner [Leslie Valiant](https://en.wikipedia.org/wiki/Leslie_Valiant). In his book [Probably Approximately Correct](https://www.amazon.com/Probably-Approximately-Correct-Algorithms-Prospering/dp/0465060722/) he defines the two concepts **theoryful** and **theoryless**. This would be the place where I would draw the line between statistics and machine learning.\n",
    "\n",
    "Theoryful: a human has to provide a model and there may be some data that helps to tune the model. A good example would be newtonian motion of the planets around the sun where Newton's laws provide the model and the data helps to pinpoint the [gravitational constant](https://en.wikipedia.org/wiki/Gravitational_constant).\n",
    "\n",
    "Theoryless: you take a very generic algorithm and a lot of data and the algorithm figures out the rest. A good example would be a [multilayer perceptron](https://en.wikipedia.org/wiki/Multilayer_perceptron) and pictures of objects, where the algorithm learns via data to identify the objects. The same multilayer perceptron architecture could be used to pilot a self driving car."
   ]
  },
  {
   "cell_type": "markdown",
   "metadata": {},
   "source": [
    "## Statistical Models"
   ]
  },
  {
   "cell_type": "markdown",
   "metadata": {},
   "source": [
    "In (bayesian) statistics a model is basically a **total** [probability mass function](https://en.wikipedia.org/wiki/Probability_mass_function) (PMF; in the discrete case) or a [probiability density function](https://en.wikipedia.org/wiki/Probability_density_function) (PDF; in the continuous case). It comes often in the form of a [probabilistic graphical model](https://en.wikipedia.org/wiki/Graphical_model) (PGM; also see [Bayesian hierarchical model](https://en.wikipedia.org/wiki/Bayesian_hierarchical_modeling)). As an example you see below the graphical representation of multiple coin tosses using the same coin:"
   ]
  },
  {
   "cell_type": "code",
   "execution_count": 3,
   "metadata": {
    "tags": [
     "hide_input"
    ]
   },
   "outputs": [
    {
     "data": {
      "image/png": "[encoded data removed]",
      "text/plain": [
       "<Figure size 141.732x230.315 with 1 Axes>"
      ]
     },
     "metadata": {},
     "output_type": "display_data"
    }
   ],
   "source": [
    "pgm = daft.PGM(grid_unit=3.0, node_unit=1.5)\n",
    "\n",
    "pgm.add_node(\"theta\", r\"$\\theta$\", 0, 2)\n",
    "pgm.add_node(\"d\", r\"$d_i$\", 0, 1, observed=True)\n",
    "pgm.add_plate([-0.5, 0.5, 1.0, 1.0], label=r\"$i = 1, \\cdots, N$\")#, shift=-0.1\n",
    "\n",
    "pgm.add_edge(\"theta\", \"d\")\n",
    "\n",
    "pgm.render(dpi=100);"
   ]
  },
  {
   "cell_type": "markdown",
   "metadata": {},
   "source": [
    "In standard mathematical notation this would be:\n",
    "\n",
    "$\\displaystyle\n",
    "\\begin{array}{rcl}\n",
    "p(\\theta) &=& \\mathrm{Beta}(\\alpha=1,\\beta=1) \\\\\n",
    "p(X_i=d_i\\,|\\,\\theta) &=& \\mathrm{Bernoulli}(X_i=d_i;p=\\theta) \\\\\n",
    "\\displaystyle p(X_1=d_1, X_2 = d_2, ..., X_n = d_n, \\theta)&=& \\displaystyle p(\\theta) \\cdot\\prod_{i=1}^N p(X_i=d_i\\,|\\,\\theta)\n",
    "\\end{array}\n",
    "$\n",
    "\n",
    "Where on the left hand side you have the total probability and on the right hand side you have the prior probability $p(\\theta)$ (here given as a [Beta distribution](https://en.wikipedia.org/wiki/Beta_distribution)) multiplied by the [conditional probabilities](https://en.wikipedia.org/wiki/Conditional_probability) $p(X_i=d_i\\,|\\,\\theta)$ (here given as a [Bernoulli distribution](https://en.wikipedia.org/wiki/Bernoulli_distribution)). The important point to remember is **YOU NEED THE TOTAL PROBABILITY FUNCTION**. How you get it does not matter. The tutal probability function is a scalar function, e.g. once you provide all arguments you get a scalar.\n",
    "\n",
    "For pure continuous probability density functions and pure discrete probability mass functions this is straight forward. In the pure continuous case you in general have a function like a product of Gauss/Normal:\n",
    "$f(x_1,x_2;\\mu,\\sigma)=\\frac{1}{\\sqrt{2\\pi}\\sigma}e^{-\\frac{1}{2}\\frac{(x_1-\\mu)^2}{\\sigma^2} }\\frac{1}{\\sqrt{2\\pi}\\sigma}e^{-\\frac{1}{2}\\frac{(x_2-\\mu)^2}{\\sigma^2} }$. In the pure discrete case you get a multi dimensional array like for two dice throws"
   ]
  },
  {
   "cell_type": "code",
   "execution_count": 4,
   "metadata": {
    "tags": [
     "hide_input"
    ]
   },
   "outputs": [
    {
     "data": {
      "text/latex": [
       "$\\displaystyle \\left[\\begin{matrix}\\frac{1}{36} & \\frac{1}{36} & \\frac{1}{36} & \\frac{1}{36} & \\frac{1}{36} & \\frac{1}{36}\\\\\\frac{1}{36} & \\frac{1}{36} & \\frac{1}{36} & \\frac{1}{36} & \\frac{1}{36} & \\frac{1}{36}\\\\\\frac{1}{36} & \\frac{1}{36} & \\frac{1}{36} & \\frac{1}{36} & \\frac{1}{36} & \\frac{1}{36}\\\\\\frac{1}{36} & \\frac{1}{36} & \\frac{1}{36} & \\frac{1}{36} & \\frac{1}{36} & \\frac{1}{36}\\\\\\frac{1}{36} & \\frac{1}{36} & \\frac{1}{36} & \\frac{1}{36} & \\frac{1}{36} & \\frac{1}{36}\\\\\\frac{1}{36} & \\frac{1}{36} & \\frac{1}{36} & \\frac{1}{36} & \\frac{1}{36} & \\frac{1}{36}\\end{matrix}\\right]$"
      ],
      "text/plain": [
       "Matrix([\n",
       "[1/36, 1/36, 1/36, 1/36, 1/36, 1/36],\n",
       "[1/36, 1/36, 1/36, 1/36, 1/36, 1/36],\n",
       "[1/36, 1/36, 1/36, 1/36, 1/36, 1/36],\n",
       "[1/36, 1/36, 1/36, 1/36, 1/36, 1/36],\n",
       "[1/36, 1/36, 1/36, 1/36, 1/36, 1/36],\n",
       "[1/36, 1/36, 1/36, 1/36, 1/36, 1/36]])"
      ]
     },
     "execution_count": 4,
     "metadata": {},
     "output_type": "execute_result"
    }
   ],
   "source": [
    "A = sympy.ones(6,6)/36\n",
    "A"
   ]
  },
  {
   "cell_type": "markdown",
   "metadata": {},
   "source": [
    "For mixed cases I often got confused. Let's look at two examples."
   ]
  },
  {
   "cell_type": "markdown",
   "metadata": {},
   "source": [
    "### Examples of mixed discrete continuous probability functions"
   ]
  },
  {
   "cell_type": "markdown",
   "metadata": {},
   "source": [
    "Below I am exaggerating the level of being explicite about each step and the level at which I use [sympy](https://www.sympy.org/en/index.html) to achieve this explicitness. I hope that this will help you from suffering a similar level of confusion that I found myself in. In addition you might learn to appreciate to use *sympy*, which is really great for symbolic algebra."
   ]
  },
  {
   "cell_type": "markdown",
   "metadata": {},
   "source": [
    "#### Two independent dice throws "
   ]
  },
  {
   "cell_type": "markdown",
   "metadata": {},
   "source": [
    "The first one is what we currently look at: independent dice throws. Let's look at two independent dice throws where we don't know $\\theta\\in[0,1]$: $p(d_1,d_2,\\theta)=p(X_0=d_0\\,|\\,\\theta)\\cdot p(X_1=d_1\\,|\\,\\theta)\\cdot p(\\theta)$. If we take $p(\\theta)=\\mathrm{Beta}(1,1)=1$ for $\\theta\\in[0,1]$ we get for each dice a one dimensional matrix with two entries:"
   ]
  },
  {
   "cell_type": "code",
   "execution_count": 5,
   "metadata": {},
   "outputs": [
    {
     "data": {
      "text/latex": [
       "$\\displaystyle \\left[\\begin{matrix}1 - \\theta\\\\\\theta\\end{matrix}\\right]$"
      ],
      "text/plain": [
       "Matrix([\n",
       "[1 - \\theta],\n",
       "[    \\theta]])"
      ]
     },
     "execution_count": 5,
     "metadata": {},
     "output_type": "execute_result"
    }
   ],
   "source": [
    "stheta = sympy.var(r'\\theta')\n",
    "D1 = sympy.Matrix([[(1-stheta)], [stheta]])\n",
    "D1"
   ]
  },
  {
   "cell_type": "markdown",
   "metadata": {},
   "source": [
    "Where the entry with index 0 is the case where we receive \"tail\" and where the entry with index 1 is the case where we receive \"head\". We can index into that vector:"
   ]
  },
  {
   "cell_type": "code",
   "execution_count": 6,
   "metadata": {},
   "outputs": [
    {
     "data": {
      "text/latex": [
       "$\\displaystyle 1 - \\theta$"
      ],
      "text/plain": [
       "1 - \\theta"
      ]
     },
     "metadata": {},
     "output_type": "display_data"
    },
    {
     "data": {
      "text/latex": [
       "$\\displaystyle \\theta$"
      ],
      "text/plain": [
       "\\theta"
      ]
     },
     "metadata": {},
     "output_type": "display_data"
    }
   ],
   "source": [
    "display(D1[0]),display(D1[1]);"
   ]
  },
  {
   "cell_type": "markdown",
   "metadata": {},
   "source": [
    "For the second dice we take a 2x1 matrix, so that when we multiply the two we will get a 2x2 matrix for the 2x2 combinations of tail and head for each coin:"
   ]
  },
  {
   "cell_type": "code",
   "execution_count": 7,
   "metadata": {},
   "outputs": [
    {
     "data": {
      "text/latex": [
       "$\\displaystyle \\left[\\begin{matrix}\\left(1 - \\theta\\right)^{2} & \\theta \\left(1 - \\theta\\right)\\\\\\theta \\left(1 - \\theta\\right) & \\theta^{2}\\end{matrix}\\right]$"
      ],
      "text/plain": [
       "Matrix([\n",
       "[    (1 - \\theta)**2, \\theta*(1 - \\theta)],\n",
       "[\\theta*(1 - \\theta),           \\theta**2]])"
      ]
     },
     "execution_count": 7,
     "metadata": {},
     "output_type": "execute_result"
    }
   ],
   "source": [
    "D2 = sympy.Matrix([[(1-stheta), stheta]])\n",
    "D = D1*D2\n",
    "D"
   ]
  },
  {
   "cell_type": "markdown",
   "metadata": {},
   "source": [
    "We said above that a probability function needs to be a function that takes as arguments the values of all random variables and delivers a scalar. In python this would look like:"
   ]
  },
  {
   "cell_type": "code",
   "execution_count": 8,
   "metadata": {},
   "outputs": [],
   "source": [
    "def two_dice_roll_probability_function(theta, d1, d2):\n",
    "    v = D.subs(stheta, theta)\n",
    "    v = v[d1,d2] # we use indexing to access a concrete slot in the multi dimensional array\n",
    "    return v"
   ]
  },
  {
   "cell_type": "markdown",
   "metadata": {},
   "source": [
    "If we then wanted to know the probability of one head and one tail for a fair coin we would get:"
   ]
  },
  {
   "cell_type": "code",
   "execution_count": 9,
   "metadata": {},
   "outputs": [
    {
     "data": {
      "text/latex": [
       "$\\displaystyle \\frac{1}{2}$"
      ],
      "text/plain": [
       "1/2"
      ]
     },
     "metadata": {},
     "output_type": "display_data"
    },
    {
     "data": {
      "text/latex": [
       "$\\displaystyle \\frac{1}{4}$"
      ],
      "text/plain": [
       "1/4"
      ]
     },
     "execution_count": 9,
     "metadata": {},
     "output_type": "execute_result"
    }
   ],
   "source": [
    "theta = sympy.Integer(1)/2\n",
    "display(theta)\n",
    "two_dice_roll_probability_function(theta, 1, 0)"
   ]
  },
  {
   "cell_type": "markdown",
   "metadata": {},
   "source": [
    "The other way we could have done it would be by the use of the [Kronecker_delta](https://en.wikipedia.org/wiki/Kronecker_delta) and using the fact that any number to the power of $0$ is $1$: $x^0=1$, e.g. the neutral element of our product of probability functions."
   ]
  },
  {
   "cell_type": "code",
   "execution_count": 10,
   "metadata": {},
   "outputs": [
    {
     "data": {
      "text/plain": [
       "(d1, d2)"
      ]
     },
     "execution_count": 10,
     "metadata": {},
     "output_type": "execute_result"
    }
   ],
   "source": [
    "sd1, sd2 = sympy.symbols('d1:3') # we define two new sympy symbols for d1 and d2\n",
    "sd1, sd2"
   ]
  },
  {
   "cell_type": "markdown",
   "metadata": {},
   "source": [
    "Below the first $1$ is to remind us of the $p(\\theta)=\\mathrm{Beta}(1,1)=1$. In case that we used another prior this would be a different factor."
   ]
  },
  {
   "cell_type": "code",
   "execution_count": 11,
   "metadata": {},
   "outputs": [
    {
     "data": {
      "text/latex": [
       "$\\displaystyle \\theta^{\\delta_{1 d_{1}}} \\theta^{\\delta_{1 d_{2}}} \\left(1 - \\theta\\right)^{\\delta_{0 d_{1}}} \\left(1 - \\theta\\right)^{\\delta_{0 d_{2}}}$"
      ],
      "text/plain": [
       "\\theta**KroneckerDelta(1, d1)*\\theta**KroneckerDelta(1, d2)*(1 - \\theta)**KroneckerDelta(0, d1)*(1 - \\theta)**KroneckerDelta(0, d2)"
      ]
     },
     "execution_count": 11,
     "metadata": {},
     "output_type": "execute_result"
    }
   ],
   "source": [
    "D_ = 1*(1-stheta)**sympy.KroneckerDelta(0,sd1)*stheta**sympy.KroneckerDelta(1,sd1)*(1-stheta)**sympy.KroneckerDelta(0,sd2)*stheta**sympy.KroneckerDelta(1,sd2)\n",
    "D_"
   ]
  },
  {
   "cell_type": "code",
   "execution_count": 12,
   "metadata": {},
   "outputs": [],
   "source": [
    "def two_dice_roll_probability_function_(theta, d1, d2):\n",
    "    v = D_.subs(stheta, theta)\n",
    "    v = v.subs(sd1,d1)\n",
    "    v = v.subs(sd2,d2)\n",
    "    return v"
   ]
  },
  {
   "cell_type": "markdown",
   "metadata": {},
   "source": [
    "And of course you get the same result:"
   ]
  },
  {
   "cell_type": "code",
   "execution_count": 13,
   "metadata": {},
   "outputs": [
    {
     "data": {
      "text/latex": [
       "$\\displaystyle \\frac{1}{4}$"
      ],
      "text/plain": [
       "1/4"
      ]
     },
     "execution_count": 13,
     "metadata": {},
     "output_type": "execute_result"
    }
   ],
   "source": [
    "two_dice_roll_probability_function(theta, 1, 0)"
   ]
  },
  {
   "cell_type": "markdown",
   "metadata": {},
   "source": [
    "The Kronecker delta variant looks more like a function, but a computer works better with an index lookup in a matrix. Finally we could use an **if-then-else** structure, but many probabilistic programming environments behave clumsy when it comes to if-then-else constructs."
   ]
  },
  {
   "cell_type": "markdown",
   "metadata": {},
   "source": [
    "#### Two component mixture model"
   ]
  },
  {
   "cell_type": "markdown",
   "metadata": {},
   "source": [
    "The second example is a two component mixture model. In most cases people will show a mixture of two Gaussians, but with two Gaussians you can get away with using an array of $\\mu$ and $\\sigma$. Let's look at mixing one Gaussian with one Exponential distribution:"
   ]
  },
  {
   "cell_type": "code",
   "execution_count": 14,
   "metadata": {},
   "outputs": [
    {
     "data": {
      "text/latex": [
       "$\\displaystyle \\left[\\begin{matrix}\\mu & \\sigma & \\lambda & x & i & p_{0} & p_{1}\\end{matrix}\\right]$"
      ],
      "text/plain": [
       "Matrix([[\\mu, \\sigma, \\lambda, x, i, p0, p1]])"
      ]
     },
     "execution_count": 14,
     "metadata": {},
     "output_type": "execute_result"
    }
   ],
   "source": [
    "smu, sx = sympy.symbols(r'\\mu x')\n",
    "si = sympy.symbols('i', integer=True)\n",
    "sp0, sp1 = sympy.symbols(r'p:2')\n",
    "ssigma = sympy.Symbol(\"\\sigma\", positive=True)\n",
    "slambda = sympy.Symbol(\"\\lambda\", positive=True)\n",
    "sympy.Matrix([smu, ssigma, slambda, sx, si, sp0, sp1]).T # just for displaying the symbols"
   ]
  },
  {
   "cell_type": "code",
   "execution_count": 15,
   "metadata": {},
   "outputs": [
    {
     "data": {
      "text/latex": [
       "$\\displaystyle \\frac{\\sqrt{2} e^{- \\frac{\\left(- \\mu + x\\right)^{2}}{2 \\sigma^{2}}}}{2 \\sqrt{\\pi} \\sigma}$"
      ],
      "text/plain": [
       "sqrt(2)*exp(-(-\\mu + x)**2/(2*\\sigma**2))/(2*sqrt(pi)*\\sigma)"
      ]
     },
     "execution_count": 15,
     "metadata": {},
     "output_type": "execute_result"
    }
   ],
   "source": [
    "sympy.stats.crv_types.NormalDistribution(smu, ssigma).pdf(sx)"
   ]
  },
  {
   "cell_type": "code",
   "execution_count": 16,
   "metadata": {},
   "outputs": [
    {
     "data": {
      "text/latex": [
       "$\\displaystyle \\lambda e^{- \\lambda x}$"
      ],
      "text/plain": [
       "\\lambda*exp(-\\lambda*x)"
      ]
     },
     "execution_count": 16,
     "metadata": {},
     "output_type": "execute_result"
    }
   ],
   "source": [
    "sympy.stats.crv_types.ExponentialDistribution(slambda).pdf(sx)"
   ]
  },
  {
   "cell_type": "markdown",
   "metadata": {},
   "source": [
    "For the mixture to work we use a mixture indicator $i\\in\\{0,1\\}$. If $i$ is 0 then we draw from the Exponential distribution and when $i$ is 1 we draw from the normal distribution. "
   ]
  },
  {
   "cell_type": "code",
   "execution_count": 17,
   "metadata": {},
   "outputs": [
    {
     "data": {
      "text/latex": [
       "$\\displaystyle \\begin{cases} p_{1} & \\text{for}\\: x = 1 \\\\1 - p_{1} & \\text{for}\\: x = 0 \\\\0 & \\text{otherwise} \\end{cases}$"
      ],
      "text/plain": [
       "Piecewise((p1, Eq(x, 1)), (1 - p1, Eq(x, 0)), (0, True))"
      ]
     },
     "execution_count": 17,
     "metadata": {},
     "output_type": "execute_result"
    }
   ],
   "source": [
    "sympy.stats.frv_types.BernoulliDistribution(sp1, 1, 0).pmf(sx)"
   ]
  },
  {
   "cell_type": "code",
   "execution_count": 18,
   "metadata": {},
   "outputs": [
    {
     "name": "stdout",
     "output_type": "stream",
     "text": [
      "\\begin{cases} p_{1} & \\text{for}\\: x = 1 \\\\1 - p_{1} & \\text{for}\\: x = 0 \\\\0 & \\text{otherwise} \\end{cases}\n"
     ]
    }
   ],
   "source": [
    "print(sympy.latex(sympy.stats.frv_types.BernoulliDistribution(sp1, 1, 0).pmf(sx)))"
   ]
  },
  {
   "cell_type": "code",
   "execution_count": 19,
   "metadata": {},
   "outputs": [
    {
     "data": {
      "text/latex": [
       "$\\displaystyle p_{1}$"
      ],
      "text/plain": [
       "p1"
      ]
     },
     "execution_count": 19,
     "metadata": {},
     "output_type": "execute_result"
    }
   ],
   "source": [
    "sympy.stats.frv_types.BernoulliDistribution(sp1, 1, 0).pmf(1)"
   ]
  },
  {
   "cell_type": "code",
   "execution_count": 20,
   "metadata": {},
   "outputs": [
    {
     "data": {
      "text/latex": [
       "$\\displaystyle 1 - p_{1}$"
      ],
      "text/plain": [
       "1 - p1"
      ]
     },
     "execution_count": 20,
     "metadata": {},
     "output_type": "execute_result"
    }
   ],
   "source": [
    "sympy.stats.frv_types.BernoulliDistribution(sp1, 1, 0).pmf(0)"
   ]
  },
  {
   "cell_type": "markdown",
   "metadata": {},
   "source": [
    "$$p(p_1,i,\\lambda,\\mu,\\sigma,x)=p(p_1)p(i\\,|\\,p_1)\\begin{cases}p(\\lambda)p(x\\,|\\,\\lambda) & \\text{for}\\: i = 0\\\\ p(\\mu)p(\\sigma)p(x\\,|\\,\\mu,\\sigma) & \\text{for}\\: i = 1 \\\\0 & \\text{otherwise} \\end{cases}$$"
   ]
  },
  {
   "cell_type": "code",
   "execution_count": 21,
   "metadata": {},
   "outputs": [
    {
     "data": {
      "text/latex": [
       "$\\displaystyle \\frac{\\left(\\lambda \\left(1 - p_{1}\\right) e^{- \\lambda x}\\right)^{\\delta_{0 i}} \\left(\\frac{\\sqrt{2} p_{1} e^{- \\frac{\\left(- \\mu + x\\right)^{2}}{2 \\sigma^{2}}}}{2 \\sqrt{\\pi} \\sigma}\\right)^{\\delta_{1 i}} e^{- \\lambda} e^{- \\frac{\\mu^{2}}{10000}} e^{- 2 \\sigma}}{20000 \\pi}$"
      ],
      "text/plain": [
       "(\\lambda*(1 - p1)*exp(-\\lambda*x))**KroneckerDelta(0, i)*(sqrt(2)*p1*exp(-(-\\mu + x)**2/(2*\\sigma**2))/(2*sqrt(pi)*\\sigma))**KroneckerDelta(1, i)*exp(-\\lambda)*exp(-\\mu**2/10000)*exp(-2*\\sigma)/(20000*pi)"
      ]
     },
     "execution_count": 21,
     "metadata": {},
     "output_type": "execute_result"
    }
   ],
   "source": [
    "sprior_exponential = sympy.stats.crv_types.ExponentialDistribution(1).pdf(slambda)\n",
    "sprior_normal = sympy.stats.crv_types.ExponentialDistribution(1).pdf(ssigma)*sympy.stats.crv_types.NormalDistribution(0, 100).pdf(smu)\n",
    "sprior_mixture_components = sprior_normal*sympy.stats.crv_types.BetaDistribution(1,1).pdf(sp1)\n",
    "sprior = sprior_exponential*sprior_normal*sprior_mixture_components\n",
    "smixture = sprior * \\\n",
    "    (sympy.stats.frv_types.BernoulliDistribution(sp1, 1, 0).pmf(0)*sympy.stats.crv_types.ExponentialDistribution(slambda).pdf(sx))**sympy.KroneckerDelta(0,si) * \\\n",
    "    (sympy.stats.frv_types.BernoulliDistribution(sp1, 1, 0).pmf(1)*sympy.stats.crv_types.NormalDistribution(smu, ssigma).pdf(sx))**sympy.KroneckerDelta(1,si)\n",
    "smixture "
   ]
  },
  {
   "cell_type": "code",
   "execution_count": 22,
   "metadata": {},
   "outputs": [
    {
     "data": {
      "text/latex": [
       "$\\displaystyle \\frac{\\left(\\lambda \\left(1 - p_{1}\\right) e^{- \\lambda x} + \\frac{\\sqrt{2} p_{1} e^{- \\frac{\\left(- \\mu + x\\right)^{2}}{2 \\sigma^{2}}}}{2 \\sqrt{\\pi} \\sigma}\\right) e^{- \\lambda} e^{- \\frac{\\mu^{2}}{10000}} e^{- 2 \\sigma}}{20000 \\pi}$"
      ],
      "text/plain": [
       "(\\lambda*(1 - p1)*exp(-\\lambda*x) + sqrt(2)*p1*exp(-(-\\mu + x)**2/(2*\\sigma**2))/(2*sqrt(pi)*\\sigma))*exp(-\\lambda)*exp(-\\mu**2/10000)*exp(-2*\\sigma)/(20000*pi)"
      ]
     },
     "execution_count": 22,
     "metadata": {},
     "output_type": "execute_result"
    }
   ],
   "source": [
    "sympy.summation(smixture, (si, 0, 1))"
   ]
  },
  {
   "cell_type": "code",
   "execution_count": 23,
   "metadata": {},
   "outputs": [
    {
     "data": {
      "text/latex": [
       "$\\displaystyle \\frac{e^{- \\lambda} e^{- \\frac{\\mu^{2}}{10000}} e^{- 2 \\sigma}}{20000 \\pi} \\left[\\begin{matrix}\\lambda \\left(1 - p_{1}\\right) e^{- \\lambda x}\\\\\\frac{\\sqrt{2} p_{1} e^{- \\frac{\\left(- \\mu + x\\right)^{2}}{2 \\sigma^{2}}}}{2 \\sqrt{\\pi} \\sigma}\\end{matrix}\\right]$"
      ],
      "text/plain": [
       "(exp(-\\lambda)*exp(-\\mu**2/10000)*exp(-2*\\sigma)/(20000*pi))*Matrix([\n",
       "[                                \\lambda*(1 - p1)*exp(-\\lambda*x)],\n",
       "[sqrt(2)*p1*exp(-(-\\mu + x)**2/(2*\\sigma**2))/(2*sqrt(pi)*\\sigma)]])"
      ]
     },
     "execution_count": 23,
     "metadata": {},
     "output_type": "execute_result"
    }
   ],
   "source": [
    "M = sympy.Matrix([sympy.stats.frv_types.BernoulliDistribution(sp1, 1, 0).pmf(0)*sympy.stats.crv_types.ExponentialDistribution(slambda).pdf(sx), sympy.stats.frv_types.BernoulliDistribution(sp1, 1, 0).pmf(1)*sympy.stats.crv_types.NormalDistribution(smu, ssigma).pdf(sx)])\n",
    "sympy.UnevaluatedExpr(sympy.UnevaluatedExpr(sprior) * sympy.UnevaluatedExpr(M))"
   ]
  },
  {
   "cell_type": "code",
   "execution_count": 24,
   "metadata": {},
   "outputs": [
    {
     "data": {
      "text/latex": [
       "$\\displaystyle \\frac{e^{- \\lambda} e^{- \\frac{\\mu^{2}}{10000}} e^{- 2 \\sigma} \\left[\\begin{matrix}\\lambda \\left(1 - p_{1}\\right) e^{- \\lambda x}\\\\\\frac{\\sqrt{2} p_{1} e^{- \\frac{\\left(- \\mu + x\\right)^{2}}{2 \\sigma^{2}}}}{2 \\sqrt{\\pi} \\sigma}\\end{matrix}\\right]}{20000 \\pi}$"
      ],
      "text/plain": [
       "exp(-\\lambda)*exp(-\\mu**2/10000)*exp(-2*\\sigma)*Matrix([\n",
       "[                                \\lambda*(1 - p1)*exp(-\\lambda*x)],\n",
       "[sqrt(2)*p1*exp(-(-\\mu + x)**2/(2*\\sigma**2))/(2*sqrt(pi)*\\sigma)]])/(20000*pi)"
      ]
     },
     "execution_count": 24,
     "metadata": {},
     "output_type": "execute_result"
    }
   ],
   "source": [
    "E = sprior * sympy.UnevaluatedExpr(M)\n",
    "E"
   ]
  },
  {
   "cell_type": "code",
   "execution_count": 25,
   "metadata": {},
   "outputs": [],
   "source": [
    "E_ = E.doit()"
   ]
  },
  {
   "cell_type": "code",
   "execution_count": 26,
   "metadata": {},
   "outputs": [
    {
     "data": {
      "text/latex": [
       "$\\displaystyle \\frac{\\lambda \\left(1 - p_{1}\\right) e^{- \\lambda} e^{- \\frac{\\mu^{2}}{10000}} e^{- 2 \\sigma} e^{- \\lambda x}}{20000 \\pi}$"
      ],
      "text/plain": [
       "\\lambda*(1 - p1)*exp(-\\lambda)*exp(-\\mu**2/10000)*exp(-2*\\sigma)*exp(-\\lambda*x)/(20000*pi)"
      ]
     },
     "execution_count": 26,
     "metadata": {},
     "output_type": "execute_result"
    }
   ],
   "source": [
    "E_[0]"
   ]
  },
  {
   "cell_type": "code",
   "execution_count": 27,
   "metadata": {},
   "outputs": [
    {
     "data": {
      "text/latex": [
       "$\\displaystyle \\frac{\\sqrt{2} p_{1} e^{- \\lambda} e^{- \\frac{\\mu^{2}}{10000}} e^{- 2 \\sigma} e^{- \\frac{\\left(- \\mu + x\\right)^{2}}{2 \\sigma^{2}}}}{40000 \\pi^{\\frac{3}{2}} \\sigma}$"
      ],
      "text/plain": [
       "sqrt(2)*p1*exp(-\\lambda)*exp(-\\mu**2/10000)*exp(-2*\\sigma)*exp(-(-\\mu + x)**2/(2*\\sigma**2))/(40000*pi**(3/2)*\\sigma)"
      ]
     },
     "execution_count": 27,
     "metadata": {},
     "output_type": "execute_result"
    }
   ],
   "source": [
    "E_[1]"
   ]
  },
  {
   "cell_type": "code",
   "execution_count": 28,
   "metadata": {},
   "outputs": [
    {
     "data": {
      "text/latex": [
       "$\\displaystyle \\frac{\\lambda \\left(1 - p_{1}\\right) e^{- \\lambda} e^{- \\frac{\\mu^{2}}{10000}} e^{- 2 \\sigma} e^{- \\lambda x}}{20000 \\pi} + \\frac{\\sqrt{2} p_{1} e^{- \\lambda} e^{- \\frac{\\mu^{2}}{10000}} e^{- 2 \\sigma} e^{- \\frac{\\left(- \\mu + x\\right)^{2}}{2 \\sigma^{2}}}}{40000 \\pi^{\\frac{3}{2}} \\sigma}$"
      ],
      "text/plain": [
       "\\lambda*(1 - p1)*exp(-\\lambda)*exp(-\\mu**2/10000)*exp(-2*\\sigma)*exp(-\\lambda*x)/(20000*pi) + sqrt(2)*p1*exp(-\\lambda)*exp(-\\mu**2/10000)*exp(-2*\\sigma)*exp(-(-\\mu + x)**2/(2*\\sigma**2))/(40000*pi**(3/2)*\\sigma)"
      ]
     },
     "execution_count": 28,
     "metadata": {},
     "output_type": "execute_result"
    }
   ],
   "source": [
    "sympy.Add(*[E_[i] for i in range(2)])"
   ]
  },
  {
   "cell_type": "code",
   "execution_count": 29,
   "metadata": {},
   "outputs": [
    {
     "data": {
      "text/latex": [
       "$\\displaystyle 0$"
      ],
      "text/plain": [
       "0"
      ]
     },
     "execution_count": 29,
     "metadata": {},
     "output_type": "execute_result"
    }
   ],
   "source": [
    "sympy.simplify(sympy.summation(smixture, (si, 0, 1)) - sympy.Add(*[E_[i] for i in range(2)]))"
   ]
  },
  {
   "cell_type": "code",
   "execution_count": 30,
   "metadata": {},
   "outputs": [
    {
     "name": "stderr",
     "output_type": "stream",
     "text": [
      "Auto-assigning NUTS sampler...\n",
      "Initializing NUTS using jitter+adapt_diag...\n",
      "Multiprocess sampling (4 chains in 4 jobs)\n",
      "NUTS: [theta]\n"
     ]
    },
    {
     "data": {
      "text/html": [
       "\n",
       "    <div>\n",
       "        <style>\n",
       "            /* Turns off some styling */\n",
       "            progress {\n",
       "                /* gets rid of default border in Firefox and Opera. */\n",
       "                border: none;\n",
       "                /* Needs to be in here for Safari polyfill so background images work as expected. */\n",
       "                background-size: auto;\n",
       "            }\n",
       "            .progress-bar-interrupted, .progress-bar-interrupted::-webkit-progress-bar {\n",
       "                background: #F44336;\n",
       "            }\n",
       "        </style>\n",
       "      <progress value='8000' class='' max='8000' style='width:300px; height:20px; vertical-align: middle;'></progress>\n",
       "      100.00% [8000/8000 00:01<00:00 Sampling 4 chains, 0 divergences]\n",
       "    </div>\n",
       "    "
      ],
      "text/plain": [
       "<IPython.core.display.HTML object>"
      ]
     },
     "metadata": {},
     "output_type": "display_data"
    },
    {
     "name": "stderr",
     "output_type": "stream",
     "text": [
      "Sampling 4 chains for 1_000 tune and 1_000 draw iterations (4_000 + 4_000 draws total) took 2 seconds.\n",
      "/home/local/cs/local/install/anaconda3-2021.05-Linux-x86_64/envs/py38ds/lib/python3.8/site-packages/numba/core/dispatcher.py:241: UserWarning: Numba extension module 'numba_scipy' failed to load due to 'ValueError(No function '__pyx_fuse_0pdtr' found in __pyx_capi__ of 'scipy.special.cython_special')'.\n",
      "  entrypoints.init_all()\n"
     ]
    }
   ],
   "source": [
    "samples = np.array([0,0,0,1,1,1,1,1,1])\n",
    "\n",
    "with pm.Model() as model:\n",
    "    theta = pm.Beta('theta', 1.0, 1.0)\n",
    "    di = pm.Bernoulli('d', theta, observed=samples)\n",
    "    trace = pm.sample(return_inferencedata=True)"
   ]
  },
  {
   "cell_type": "code",
   "execution_count": 31,
   "metadata": {},
   "outputs": [],
   "source": [
    "# pm.summary(trace)"
   ]
  },
  {
   "cell_type": "code",
   "execution_count": 32,
   "metadata": {},
   "outputs": [],
   "source": [
    "# pm.plot_trace(trace)"
   ]
  },
  {
   "cell_type": "code",
   "execution_count": 33,
   "metadata": {},
   "outputs": [
    {
     "data": {
      "image/png": "[encoded data removed]",
      "text/plain": [
       "<Figure size 480x240 with 1 Axes>"
      ]
     },
     "metadata": {},
     "output_type": "display_data"
    }
   ],
   "source": [
    "plt.figure(figsize=(6, 3), dpi=80, facecolor='w', edgecolor='k')\n",
    "ax = plt.subplot(1, 1, 1)\n",
    "x = np.linspace(0.0,1.0,100)\n",
    "y = stats.beta(1+6,1+3).pdf(x)\n",
    "ax.plot(x,y);"
   ]
  },
  {
   "cell_type": "code",
   "execution_count": null,
   "metadata": {},
   "outputs": [],
   "source": []
  }
 ],
 "metadata": {
  "kernelspec": {
   "display_name": "Python 3",
   "language": "python",
   "name": "python3"
  },
  "language_info": {
   "codemirror_mode": {
    "name": "ipython",
    "version": 3
   },
   "file_extension": ".py",
   "mimetype": "text/x-python",
   "name": "python",
   "nbconvert_exporter": "python",
   "pygments_lexer": "ipython3",
   "version": "3.8.10"
  },
  "toc": {
   "base_numbering": 1,
   "nav_menu": {},
   "number_sections": true,
   "sideBar": true,
   "skip_h1_title": false,
   "title_cell": "Table of Contents",
   "title_sidebar": "Contents",
   "toc_cell": false,
   "toc_position": {},
   "toc_section_display": true,
   "toc_window_display": false
  }
 },
 "nbformat": 4,
 "nbformat_minor": 2
}
