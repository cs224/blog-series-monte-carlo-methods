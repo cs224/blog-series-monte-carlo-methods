{
 "cells": [
  {
   "cell_type": "code",
   "execution_count": 1,
   "metadata": {},
   "outputs": [
    {
     "name": "stdout",
     "output_type": "stream",
     "text": [
      "Author: cs224\n",
      "\n",
      "Last updated: 2021-09-10\n",
      "\n",
      "Python implementation: CPython\n",
      "Python version       : 3.8.10\n",
      "IPython version      : 7.22.0\n",
      "\n",
      "numpy     : 1.20.2\n",
      "pandas    : 1.2.5\n",
      "matplotlib: 3.3.4\n",
      "sklearn   : 0.24.2\n",
      "h5py      : 2.10.0\n",
      "pytest    : 6.2.4\n",
      "\n"
     ]
    }
   ],
   "source": [
    "%load_ext watermark\n",
    "%watermark -a 'cs224' -u -d -v -p numpy,pandas,matplotlib,sklearn,h5py,pytest"
   ]
  },
  {
   "cell_type": "code",
   "execution_count": 2,
   "metadata": {},
   "outputs": [],
   "source": [
    "%matplotlib inline\n",
    "import numpy as np, scipy, scipy.stats as stats, pandas as pd, matplotlib.pyplot as plt, seaborn as sns\n",
    "import sklearn, sklearn.pipeline, sklearn.model_selection, sklearn.preprocessing, sklearn.linear_model\n",
    "\n",
    "pd.set_option('display.max_columns', 500)\n",
    "pd.set_option('display.width', 1000)\n",
    "# pd.set_option('display.float_format', lambda x: '%.2f' % x)\n",
    "np.set_printoptions(edgeitems=10)\n",
    "np.set_printoptions(linewidth=1000)\n",
    "np.set_printoptions(suppress=True)\n",
    "np.core.arrayprint._line_width = 180\n",
    "\n",
    "SEED = 42\n",
    "np.random.seed(SEED)\n",
    "\n",
    "sns.set()"
   ]
  },
  {
   "cell_type": "code",
   "execution_count": 3,
   "metadata": {},
   "outputs": [
    {
     "data": {
      "text/html": [
       "<style>.container { width:60% !important; }</style>"
      ],
      "text/plain": [
       "<IPython.core.display.HTML object>"
      ]
     },
     "metadata": {},
     "output_type": "display_data"
    }
   ],
   "source": [
    "from IPython.core.display import display, HTML\n",
    "display(HTML(\"<style>.container { width:60% !important; }</style>\"))"
   ]
  },
  {
   "cell_type": "code",
   "execution_count": 4,
   "metadata": {},
   "outputs": [],
   "source": [
    "# import os,sys\n",
    "# sys.path.append(os.path.realpath(os.path.abspath('') + '/../../lib'))"
   ]
  },
  {
   "cell_type": "code",
   "execution_count": 5,
   "metadata": {},
   "outputs": [],
   "source": [
    "# %load_ext autoreload\n",
    "# %autoreload 1\n",
    "# %aimport somemodule"
   ]
  },
  {
   "cell_type": "code",
   "execution_count": 6,
   "metadata": {},
   "outputs": [
    {
     "data": {
      "text/html": [
       "<style>.container { width:70% !important; }</style>"
      ],
      "text/plain": [
       "<IPython.core.display.HTML object>"
      ]
     },
     "metadata": {},
     "output_type": "display_data"
    }
   ],
   "source": [
    "from IPython.display import display, HTML\n",
    "\n",
    "from IPython.display import display_html\n",
    "def display_side_by_side(*args):\n",
    "    html_str=''\n",
    "    for df in args:\n",
    "        if type(df) == np.ndarray:\n",
    "            df = pd.DataFrame(df)\n",
    "        html_str+=df.to_html()\n",
    "    html_str = html_str.replace('table','table style=\"display:inline\"')\n",
    "    # print(html_str)\n",
    "    display_html(html_str,raw=True)\n",
    "\n",
    "CSS = \"\"\"\n",
    ".output {\n",
    "    flex-direction: row;\n",
    "}\n",
    "\"\"\"\n",
    "\n",
    "def display_graphs_side_by_side(*args):\n",
    "    html_str='<table><tr>'\n",
    "    for g in args:\n",
    "        html_str += '<td>'\n",
    "        html_str += g._repr_svg_()\n",
    "        html_str += '</td>'\n",
    "    html_str += '</tr></table>'\n",
    "    display_html(html_str,raw=True)\n",
    "    \n",
    "\n",
    "display(HTML(\"<style>.container { width:70% !important; }</style>\"))"
   ]
  },
  {
   "cell_type": "code",
   "execution_count": 7,
   "metadata": {},
   "outputs": [],
   "source": [
    "# import importlib, logging\n",
    "# importlib.reload(logging)\n",
    "# logging.basicConfig(level=logging.DEBUG)\n",
    "# logging.info('test')"
   ]
  },
  {
   "cell_type": "code",
   "execution_count": 8,
   "metadata": {},
   "outputs": [],
   "source": [
    "# import warnings\n",
    "# with warnings.catch_warnings():\n",
    "#     warnings.simplefilter(\"ignore\")\n",
    "#     warnings.filterwarnings(\"ignore\", module='xxx_module_xxx')\n",
    "#     warnings.filterwarnings('error', category=RuntimeWarning, module='empyrical.stats')\n",
    "\n",
    "\n",
    "# with warnings.catch_warnings(record=True) as w:\n",
    "#     # Cause all warnings to always be triggered.\n",
    "#     warnings.simplefilter(\"always\")\n",
    "\n",
    "# warnings.filterwarnings('error, message='', category=Warning, module='', lineno=0, append=False)\n",
    "# warnings.filterwarnings('error', module='pandas')\n",
    "# warnings.filterwarnings('ignore', module='numba_scipy')\n",
    "# warnings.filterwarnings('ignore', module='zipline.assets')"
   ]
  },
  {
   "cell_type": "code",
   "execution_count": 9,
   "metadata": {},
   "outputs": [
    {
     "data": {
      "text/plain": [
       "array([[ 2.57399925],\n",
       "       [-9.08481433],\n",
       "       [-3.78503106],\n",
       "       [-5.34915599],\n",
       "       [ 8.58073346]])"
      ]
     },
     "execution_count": 9,
     "metadata": {},
     "output_type": "execute_result"
    }
   ],
   "source": [
    "N_subjects = 1000\n",
    "\n",
    "X = stats.norm(loc=0, scale=10).rvs(size=(N_subjects,1), random_state=np.random.RandomState(43))\n",
    "X[:5,:]"
   ]
  },
  {
   "cell_type": "code",
   "execution_count": 10,
   "metadata": {},
   "outputs": [
    {
     "data": {
      "text/plain": [
       "array([[ 1.91169227],\n",
       "       [-2.8842285 ],\n",
       "       [-0.26944552],\n",
       "       [-2.47703586],\n",
       "       [ 4.55629489]])"
      ]
     },
     "execution_count": 10,
     "metadata": {},
     "output_type": "execute_result"
    }
   ],
   "source": [
    "a = 0.5\n",
    "b = 1\n",
    "y = a * X + b\n",
    "y = y + stats.norm(loc=0, scale=0.5).rvs(size=(N_subjects,1), random_state=np.random.RandomState(44))\n",
    "y[:5,:]"
   ]
  },
  {
   "cell_type": "code",
   "execution_count": 11,
   "metadata": {},
   "outputs": [],
   "source": [
    "x_min = np.min(X)\n",
    "x_max = np.max(X)\n",
    "x_lin = np.linspace(x_min, x_max, 100)\n",
    "y_lin = a * x_lin + b"
   ]
  },
  {
   "cell_type": "code",
   "execution_count": 12,
   "metadata": {},
   "outputs": [
    {
     "data": {
      "text/plain": [
       "(array([0.99580863]), array([[0.49856981]]))"
      ]
     },
     "execution_count": 12,
     "metadata": {},
     "output_type": "execute_result"
    }
   ],
   "source": [
    "lr_poly = sklearn.linear_model.LinearRegression()\n",
    "lr_poly.fit(X, y)\n",
    "lr_poly.intercept_, lr_poly.coef_"
   ]
  },
  {
   "cell_type": "code",
   "execution_count": 13,
   "metadata": {},
   "outputs": [
    {
     "data": {
      "text/plain": [
       "[<matplotlib.lines.Line2D at 0x7fcf45f369d0>]"
      ]
     },
     "execution_count": 13,
     "metadata": {},
     "output_type": "execute_result"
    },
    {
     "data": {
      "image/png": "[encoded data removed]",
      "text/plain": [
       "<Figure size 1200x640 with 1 Axes>"
      ]
     },
     "metadata": {},
     "output_type": "display_data"
    }
   ],
   "source": [
    "plt.figure(figsize=(15, 8), dpi=80, facecolor='w', edgecolor='k')\n",
    "ax = plt.subplot(1, 1, 1)\n",
    "ax.scatter(X,y)\n",
    "ax.plot(x_lin,y_lin)"
   ]
  },
  {
   "cell_type": "markdown",
   "metadata": {},
   "source": [
    "# LaTeX"
   ]
  },
  {
   "cell_type": "markdown",
   "metadata": {},
   "source": [
    "Here is a `newcommand` (see in the source):\n",
    "$$\\newcommand{gpvec}[1]{{\\bf #1}}$$\n",
    "$$\\newcommand{bfvec}[1]{{\\pmb{#1}}}$$\n",
    "$$p(f_*|x_*, X, y) = \\mathcal{N}\\left(\\frac{1}{\\sigma_n^2}\\gpvec{x_*}^TA^{-1}X\\gpvec{y},\\; \\gpvec{x_*}^TA^{-1}\\bfvec{x_*}\\right)$$\n",
    "$$A=\\frac{1}{\\sigma_n^2}XX^T+\\Sigma_p^{-1}$$"
   ]
  },
  {
   "cell_type": "markdown",
   "metadata": {},
   "source": [
    "$\\displaystyle\n",
    "\\begin{array}{rcl}\n",
    "\\text{μ} & \\sim & a\\\\\n",
    "\\text{σ} & \\sim & b\\\\\n",
    "\\end{array}\n",
    "$"
   ]
  },
  {
   "cell_type": "markdown",
   "metadata": {},
   "source": [
    "$$\n",
    "\\begin{align}\n",
    "s_{t+1}=\\begin{pmatrix}\\beta_{t+1}\\\\\\alpha_{t+1}\\end{pmatrix}&=&\\begin{pmatrix}\\beta_t\\\\\\alpha_t\\end{pmatrix}+\\eta_t&,\\qquad& \\eta_t \\sim N(0, I_2\\sigma_\\eta^2)\\\\\n",
    "y_t &=& Z_t\\cdot s_t + \\varepsilon_t = \\begin{pmatrix}x_t&1\\end{pmatrix}\\cdot\\begin{pmatrix}\\beta_t\\\\\\alpha_t\\end{pmatrix} + \\varepsilon_t =\\beta_tx_t+\\alpha_t \\\n",
    "&,\\qquad&\\varepsilon_t \\sim N(0, \\sigma_\\varepsilon^2)\n",
    "\\end{align}\n",
    "$$"
   ]
  },
  {
   "cell_type": "markdown",
   "metadata": {},
   "source": [
    "Given a joint distribution:\n",
    "$$\\left[\\begin{matrix}x\\\\ y\\end{matrix}\\right]\\sim\\mathcal{N}\\left(\n",
    "\\left[\\begin{matrix}\\mu_x\\\\\\mu_y\\end{matrix}\\right],\n",
    "\\left[\\begin{matrix}A&C\\\\ C^T&B\\end{matrix}\\right]\n",
    "\\right)$$\n",
    "\n",
    "We get the conditional distribution analytically as follows:\n",
    "\n",
    "$$p(x\\,|\\, y)\\sim\\mathcal{N}(\\mu_x+CB^{-1}(y-\\mu_y), A-CB^{-1}C^T)$$\n",
    "\n",
    "And as we set the mean to $0$ this reduces to:\n",
    "\n",
    "$$p(x\\,|\\, y)\\sim\\mathcal{N}(CB^{-1}y, A-CB^{-1}C^T)$$"
   ]
  },
  {
   "cell_type": "markdown",
   "metadata": {},
   "source": [
    "# SymPy"
   ]
  },
  {
   "cell_type": "code",
   "execution_count": 14,
   "metadata": {},
   "outputs": [],
   "source": [
    "import sympy\n",
    "sympy.init_printing()"
   ]
  },
  {
   "cell_type": "code",
   "execution_count": 15,
   "metadata": {},
   "outputs": [
    {
     "data": {
      "image/png": "[encoded data removed]",
      "text/latex": [
       "$\\displaystyle x^{4} - 7.5 x^{3} + 14.5 x^{2} + 3.0 x - 20.0$"
      ],
      "text/plain": [
       " 4        3         2               \n",
       "x  - 7.5⋅x  + 14.5⋅x  + 3.0⋅x - 20.0"
      ]
     },
     "execution_count": 15,
     "metadata": {},
     "output_type": "execute_result"
    }
   ],
   "source": [
    "def myfn(x):\n",
    "    return (x+1)*(x-2)*(x-2.5)*(x-4)\n",
    "\n",
    "symx = sympy.symbols('x')\n",
    "sympy.expand(myfn(symx))"
   ]
  },
  {
   "cell_type": "code",
   "execution_count": 16,
   "metadata": {},
   "outputs": [
    {
     "data": {
      "image/png": "[encoded data removed]",
      "text/latex": [
       "$\\displaystyle \\int 169468.112192611 \\left(- 2.41880408240179 \\cdot 10^{-9} x^{16} + 1.36276465610668 \\cdot 10^{-7} x^{15} - 3.49098165434104 \\cdot 10^{-6} x^{14} + 5.38111800543089 \\cdot 10^{-5} x^{13} - 0.000556685466469675 x^{12} + 0.00408173406248781 x^{11} - 0.0218377659611658 x^{10} + 0.0864743499623509 x^{9} - 0.25443496251136 x^{8} + 0.553716175458228 x^{7} - 0.880083202281385 x^{6} + x^{5} - 0.786805137406334 x^{4} + 0.409652714068313 x^{3} - 0.13337233534738 x^{2} + 0.0279729800582066 x\\right)^{2}\\, dx$"
      ],
      "text/plain": [
       "⌠                                                                             \n",
       "⎮                                                                             \n",
       "⎮                  ⎛                       16                        15       \n",
       "⎮ 169468.112192611⋅⎝- 2.41880408240179e-9⋅x   + 1.36276465610668e-7⋅x   - 3.49\n",
       "⌡                                                                             \n",
       "\n",
       "                                                                              \n",
       "                                                                              \n",
       "                 14                        13                         12      \n",
       "098165434104e-6⋅x   + 5.38111800543089e-5⋅x   - 0.000556685466469675⋅x   + 0.0\n",
       "                                                                              \n",
       "\n",
       "                                                                              \n",
       "                                                                              \n",
       "                  11                       10                       9         \n",
       "0408173406248781⋅x   - 0.0218377659611658⋅x   + 0.0864743499623509⋅x  - 0.2544\n",
       "                                                                              \n",
       "\n",
       "                                                                              \n",
       "                                                                              \n",
       "            8                      7                      6    5              \n",
       "3496251136⋅x  + 0.553716175458228⋅x  - 0.880083202281385⋅x  + x  - 0.786805137\n",
       "                                                                              \n",
       "\n",
       "                                                                              \n",
       "                                                                              \n",
       "        4                      3                     2                       ⎞\n",
       "406334⋅x  + 0.409652714068313⋅x  - 0.13337233534738⋅x  + 0.0279729800582066⋅x⎠\n",
       "                                                                              \n",
       "\n",
       "    \n",
       "2   \n",
       "    \n",
       "  dx\n",
       "    "
      ]
     },
     "execution_count": 16,
     "metadata": {},
     "output_type": "execute_result"
    }
   ],
   "source": [
    "sx = sympy.symbols('x')\n",
    "sfx = \\\n",
    "      -0.0000009957371   * sx**16 + \\\n",
    "       0.000056100257831 * sx**15 + \\\n",
    "      -0.0014371151322   * sx**14 + \\\n",
    "       0.022152182049259 * sx**13 + \\\n",
    "      -0.229167949577895 * sx**12 + \\\n",
    "       1.680307250977133 * sx**11 + \\\n",
    "      -8.98984498449258  * sx**10 + \\\n",
    "      35.59846747504916  * sx** 9 + \\\n",
    "    -104.74198119349185  * sx**8  + \\\n",
    "     227.94559624952703  * sx**7  + \\\n",
    "    -362.2994941897943   * sx**6  + \\\n",
    "     411.6650485438511   * sx**5  + \\\n",
    "    -323.9001750849299   * sx**4  + \\\n",
    "     168.63970442305256  * sx**3  + \\\n",
    "     -54.90472890518606  * sx**2  + \\\n",
    "      11.515498193577798 * sx\n",
    "sfx2 = sfx**2\n",
    "isfx2 = sympy.Integral(sfx2, sx)\n",
    "isfx2"
   ]
  },
  {
   "cell_type": "code",
   "execution_count": 17,
   "metadata": {},
   "outputs": [
    {
     "data": {
      "image/png": "[encoded data removed]",
      "text/latex": [
       "$\\displaystyle - 576.0 \\pi$"
      ],
      "text/plain": [
       "-576.0⋅π"
      ]
     },
     "execution_count": 17,
     "metadata": {},
     "output_type": "execute_result"
    }
   ],
   "source": [
    "isfx2 = sympy.integrate(sfx2, (sx,0,6.56))\n",
    "isfx2*sympy.pi"
   ]
  },
  {
   "cell_type": "code",
   "execution_count": 18,
   "metadata": {},
   "outputs": [
    {
     "data": {
      "image/png": "[encoded data removed]",
      "text/latex": [
       "$\\displaystyle -1809.5573684677209053544825887689936612975695740401$"
      ],
      "text/plain": [
       "-1809.5573684677209053544825887689936612975695740401"
      ]
     },
     "execution_count": 18,
     "metadata": {},
     "output_type": "execute_result"
    }
   ],
   "source": [
    "precision=50\n",
    "sympy.N(isfx2*sympy.pi, precision)"
   ]
  },
  {
   "cell_type": "code",
   "execution_count": 19,
   "metadata": {},
   "outputs": [
    {
     "data": {
      "image/png": "[encoded data removed]",
      "text/plain": [
       "<Figure size 432x288 with 1 Axes>"
      ]
     },
     "metadata": {},
     "output_type": "display_data"
    },
    {
     "data": {
      "text/plain": [
       "<sympy.plotting.plot.Plot at 0x7fcf2ff139a0>"
      ]
     },
     "execution_count": 19,
     "metadata": {},
     "output_type": "execute_result"
    }
   ],
   "source": [
    "sympy.plotting.plot(sfx, (sx, 0, 6.56))"
   ]
  },
  {
   "cell_type": "code",
   "execution_count": 20,
   "metadata": {},
   "outputs": [],
   "source": [
    "sa, sb, sc, sd = sympy.symbols(['a', 'b', 'c', 'd'])\n",
    "se, sf, sg, sh = sympy.symbols('e f g h')"
   ]
  },
  {
   "cell_type": "code",
   "execution_count": 21,
   "metadata": {},
   "outputs": [
    {
     "data": {
      "image/png": "[encoded data removed]",
      "text/latex": [
       "$\\displaystyle \\left( \\left[\\begin{matrix}a & b\\\\c & d\\end{matrix}\\right], \\  \\left[\\begin{matrix}\\frac{d}{a d - b c} & - \\frac{b}{a d - b c}\\\\- \\frac{c}{a d - b c} & \\frac{a}{a d - b c}\\end{matrix}\\right]\\right)$"
      ],
      "text/plain": [
       "⎛        ⎡    d         -b    ⎤⎞\n",
       "⎜        ⎢─────────  ─────────⎥⎟\n",
       "⎜⎡a  b⎤  ⎢a⋅d - b⋅c  a⋅d - b⋅c⎥⎟\n",
       "⎜⎢    ⎥, ⎢                    ⎥⎟\n",
       "⎜⎣c  d⎦  ⎢   -c          a    ⎥⎟\n",
       "⎜        ⎢─────────  ─────────⎥⎟\n",
       "⎝        ⎣a⋅d - b⋅c  a⋅d - b⋅c⎦⎠"
      ]
     },
     "execution_count": 21,
     "metadata": {},
     "output_type": "execute_result"
    }
   ],
   "source": [
    "sm = sympy.Matrix([[sa, sb], [sc, sd]])\n",
    "sm, sm.inv()"
   ]
  },
  {
   "cell_type": "code",
   "execution_count": 22,
   "metadata": {},
   "outputs": [
    {
     "data": {
      "image/png": "[encoded data removed]",
      "text/latex": [
       "$\\displaystyle 1.23$"
      ],
      "text/plain": [
       "1.23000000000000"
      ]
     },
     "execution_count": 22,
     "metadata": {},
     "output_type": "execute_result"
    }
   ],
   "source": [
    "sympy.S(\"{:6.2f}\".format(1.23))"
   ]
  },
  {
   "cell_type": "code",
   "execution_count": 23,
   "metadata": {},
   "outputs": [
    {
     "data": {
      "image/png": "[encoded data removed]",
      "text/latex": [
       "$\\displaystyle \\left\\{-1, 1\\right\\}$"
      ],
      "text/plain": [
       "{-1, 1}"
      ]
     },
     "execution_count": 23,
     "metadata": {},
     "output_type": "execute_result"
    }
   ],
   "source": [
    "solution = sympy.solveset(sympy.Eq(sx**2 - 1, 0), sx)\n",
    "solution"
   ]
  },
  {
   "cell_type": "code",
   "execution_count": 24,
   "metadata": {},
   "outputs": [
    {
     "data": {
      "image/png": "[encoded data removed]",
      "text/latex": [
       "$\\displaystyle -1$"
      ],
      "text/plain": [
       "-1"
      ]
     },
     "execution_count": 24,
     "metadata": {},
     "output_type": "execute_result"
    }
   ],
   "source": [
    "list(solution)[0]"
   ]
  }
 ],
 "metadata": {
  "kernelspec": {
   "display_name": "Python 3",
   "language": "python",
   "name": "python3"
  },
  "language_info": {
   "codemirror_mode": {
    "name": "ipython",
    "version": 3
   },
   "file_extension": ".py",
   "mimetype": "text/x-python",
   "name": "python",
   "nbconvert_exporter": "python",
   "pygments_lexer": "ipython3",
   "version": "3.8.10"
  },
  "toc": {
   "base_numbering": 1,
   "nav_menu": {},
   "number_sections": true,
   "sideBar": true,
   "skip_h1_title": false,
   "title_cell": "Table of Contents",
   "title_sidebar": "Contents",
   "toc_cell": false,
   "toc_position": {},
   "toc_section_display": true,
   "toc_window_display": false
  }
 },
 "nbformat": 4,
 "nbformat_minor": 2
}
